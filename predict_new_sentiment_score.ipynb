{
 "cells": [
  {
   "cell_type": "markdown",
   "metadata": {},
   "source": [
    "### Packages"
   ]
  },
  {
   "cell_type": "code",
   "execution_count": 2,
   "metadata": {},
   "outputs": [
    {
     "name": "stderr",
     "output_type": "stream",
     "text": [
      "/root/.virtualenvs/tradebot/lib/python3.8/site-packages/tqdm/auto.py:21: TqdmWarning: IProgress not found. Please update jupyter and ipywidgets. See https://ipywidgets.readthedocs.io/en/stable/user_install.html\n",
      "  from .autonotebook import tqdm as notebook_tqdm\n",
      "2024-05-09 12:24:57.453306: I tensorflow/core/util/port.cc:110] oneDNN custom operations are on. You may see slightly different numerical results due to floating-point round-off errors from different computation orders. To turn them off, set the environment variable `TF_ENABLE_ONEDNN_OPTS=0`.\n",
      "2024-05-09 12:24:57.494942: I tensorflow/core/platform/cpu_feature_guard.cc:182] This TensorFlow binary is optimized to use available CPU instructions in performance-critical operations.\n",
      "To enable the following instructions: AVX2 AVX_VNNI FMA, in other operations, rebuild TensorFlow with the appropriate compiler flags.\n",
      "2024-05-09 12:24:58.310224: W tensorflow/compiler/tf2tensorrt/utils/py_utils.cc:38] TF-TRT Warning: Could not find TensorRT\n"
     ]
    }
   ],
   "source": [
    "import os\n",
    "import random\n",
    "import numpy as np\n",
    "import pandas as pd\n",
    "import matplotlib.pyplot as plt\n",
    "import seaborn as sns\n",
    "from datasets import Dataset \n",
    "from functools import partial\n",
    "\n",
    "import transformers\n",
    "from transformers import BertTokenizer, Trainer, BertForSequenceClassification, TrainingArguments, BertConfig\n",
    "from transformers import PreTrainedModel, PreTrainedTokenizer, PretrainedConfig, AdamW\n",
    "\n",
    "import torch\n",
    "import torch.optim as optim\n",
    "from sklearn.model_selection import train_test_split\n",
    "from sklearn.metrics import classification_report, confusion_matrix, accuracy_score, roc_auc_score\n",
    "from sklearn.metrics import auc, precision_recall_curve, average_precision_score, roc_curve, f1_score"
   ]
  },
  {
   "cell_type": "markdown",
   "metadata": {},
   "source": [
    "### Import pretrained model"
   ]
  },
  {
   "cell_type": "code",
   "execution_count": 3,
   "metadata": {},
   "outputs": [],
   "source": [
    "tuned_bert_model = BertForSequenceClassification.from_pretrained('BERT_fine_tuned_1', id2label={0: 'Neutral', 1: 'Positive', 2: 'Negative'})\n",
    "senti_tokenizer = BertTokenizer.from_pretrained('bert-base-uncased')"
   ]
  },
  {
   "cell_type": "code",
   "execution_count": 4,
   "metadata": {},
   "outputs": [
    {
     "data": {
      "text/plain": [
       "{0: 'Neutral', 1: 'Positive', 2: 'Negative'}"
      ]
     },
     "execution_count": 4,
     "metadata": {},
     "output_type": "execute_result"
    }
   ],
   "source": [
    "tuned_bert_model.config.id2label"
   ]
  },
  {
   "cell_type": "markdown",
   "metadata": {},
   "source": [
    "### Load data"
   ]
  },
  {
   "cell_type": "code",
   "execution_count": 5,
   "metadata": {},
   "outputs": [
    {
     "data": {
      "text/html": [
       "<div>\n",
       "<style scoped>\n",
       "    .dataframe tbody tr th:only-of-type {\n",
       "        vertical-align: middle;\n",
       "    }\n",
       "\n",
       "    .dataframe tbody tr th {\n",
       "        vertical-align: top;\n",
       "    }\n",
       "\n",
       "    .dataframe thead th {\n",
       "        text-align: right;\n",
       "    }\n",
       "</style>\n",
       "<table border=\"1\" class=\"dataframe\">\n",
       "  <thead>\n",
       "    <tr style=\"text-align: right;\">\n",
       "      <th></th>\n",
       "      <th>Date</th>\n",
       "      <th>News_Headline</th>\n",
       "    </tr>\n",
       "  </thead>\n",
       "  <tbody>\n",
       "    <tr>\n",
       "      <th>1</th>\n",
       "      <td>2024-04-29</td>\n",
       "      <td>Musk makes surprise visit to Beijing as Tesla’...</td>\n",
       "    </tr>\n",
       "    <tr>\n",
       "      <th>2</th>\n",
       "      <td>2024-04-28</td>\n",
       "      <td>How working for Big Tech lost ‘dream job’ status</td>\n",
       "    </tr>\n",
       "    <tr>\n",
       "      <th>3</th>\n",
       "      <td>2024-04-28</td>\n",
       "      <td>Elon Musk visits China as Tesla seeks self-dri...</td>\n",
       "    </tr>\n",
       "    <tr>\n",
       "      <th>4</th>\n",
       "      <td>2024-04-27</td>\n",
       "      <td>Nvidia jumps more than 15% this week. A key re...</td>\n",
       "    </tr>\n",
       "    <tr>\n",
       "      <th>5</th>\n",
       "      <td>2024-04-27</td>\n",
       "      <td>Federal regulator finds Tesla Autopilot has ‘c...</td>\n",
       "    </tr>\n",
       "    <tr>\n",
       "      <th>...</th>\n",
       "      <td>...</td>\n",
       "      <td>...</td>\n",
       "    </tr>\n",
       "    <tr>\n",
       "      <th>9414</th>\n",
       "      <td>2010-01-30</td>\n",
       "      <td>Electric Sportscar Maker Tesla Plans Public Of...</td>\n",
       "    </tr>\n",
       "    <tr>\n",
       "      <th>9415</th>\n",
       "      <td>2008-10-17</td>\n",
       "      <td>Tesla Says It Will Lay Off Employees and Delay...</td>\n",
       "    </tr>\n",
       "    <tr>\n",
       "      <th>9416</th>\n",
       "      <td>2008-10-16</td>\n",
       "      <td>Tesla Stalls--Layoffs And CEO Change Coming (U...</td>\n",
       "    </tr>\n",
       "    <tr>\n",
       "      <th>9417</th>\n",
       "      <td>2008-05-31</td>\n",
       "      <td>Get Ready for Tesla!</td>\n",
       "    </tr>\n",
       "    <tr>\n",
       "      <th>9418</th>\n",
       "      <td>2008-05-31</td>\n",
       "      <td>Tesla Motors Quick Facts</td>\n",
       "    </tr>\n",
       "  </tbody>\n",
       "</table>\n",
       "<p>9418 rows × 2 columns</p>\n",
       "</div>"
      ],
      "text/plain": [
       "            Date                                      News_Headline\n",
       "1     2024-04-29  Musk makes surprise visit to Beijing as Tesla’...\n",
       "2     2024-04-28   How working for Big Tech lost ‘dream job’ status\n",
       "3     2024-04-28  Elon Musk visits China as Tesla seeks self-dri...\n",
       "4     2024-04-27  Nvidia jumps more than 15% this week. A key re...\n",
       "5     2024-04-27  Federal regulator finds Tesla Autopilot has ‘c...\n",
       "...          ...                                                ...\n",
       "9414  2010-01-30  Electric Sportscar Maker Tesla Plans Public Of...\n",
       "9415  2008-10-17  Tesla Says It Will Lay Off Employees and Delay...\n",
       "9416  2008-10-16  Tesla Stalls--Layoffs And CEO Change Coming (U...\n",
       "9417  2008-05-31                               Get Ready for Tesla!\n",
       "9418  2008-05-31                           Tesla Motors Quick Facts\n",
       "\n",
       "[9418 rows x 2 columns]"
      ]
     },
     "execution_count": 5,
     "metadata": {},
     "output_type": "execute_result"
    }
   ],
   "source": [
    "raw = pd.read_csv('News_Titile.csv', encoding='utf-8', names=['Date', 'News_Headline'])\n",
    "raw = raw.drop(raw.index[0])\n",
    "raw.dropna(inplace=True)\n",
    "raw"
   ]
  },
  {
   "cell_type": "code",
   "execution_count": 6,
   "metadata": {},
   "outputs": [
    {
     "name": "stdout",
     "output_type": "stream",
     "text": [
      "9418\n"
     ]
    }
   ],
   "source": [
    "print(len(raw))"
   ]
  },
  {
   "cell_type": "code",
   "execution_count": 7,
   "metadata": {},
   "outputs": [],
   "source": [
    "from tqdm import tqdm"
   ]
  },
  {
   "cell_type": "code",
   "execution_count": 8,
   "metadata": {},
   "outputs": [
    {
     "name": "stderr",
     "output_type": "stream",
     "text": [
      "Processing: 100%|██████████| 9418/9418 [09:13<00:00, 17.02it/s]  \n"
     ]
    }
   ],
   "source": [
    "neutral = list()\n",
    "positive = list()\n",
    "negative = list()\n",
    "\n",
    "for i in tqdm(range(len(raw)), desc=\"Processing\"):\n",
    "    inputs = senti_tokenizer(raw.iloc[i, 1], padding=True, truncation=True, max_length=512, return_tensors='pt')  # tokenize text to be sent to model\n",
    "    outputs = tuned_bert_model(**inputs)\n",
    "    predictions = torch.nn.functional.softmax(outputs.logits, dim=-1)\n",
    "    neutral.append(predictions[0][0].tolist())\n",
    "    positive.append(predictions[0][1].tolist())\n",
    "    negative.append(predictions[0][2].tolist())"
   ]
  },
  {
   "cell_type": "code",
   "execution_count": 13,
   "metadata": {},
   "outputs": [
    {
     "data": {
      "text/html": [
       "<div>\n",
       "<style scoped>\n",
       "    .dataframe tbody tr th:only-of-type {\n",
       "        vertical-align: middle;\n",
       "    }\n",
       "\n",
       "    .dataframe tbody tr th {\n",
       "        vertical-align: top;\n",
       "    }\n",
       "\n",
       "    .dataframe thead th {\n",
       "        text-align: right;\n",
       "    }\n",
       "</style>\n",
       "<table border=\"1\" class=\"dataframe\">\n",
       "  <thead>\n",
       "    <tr style=\"text-align: right;\">\n",
       "      <th></th>\n",
       "      <th>Date</th>\n",
       "      <th>News_Title</th>\n",
       "      <th>Positive</th>\n",
       "      <th>Negative</th>\n",
       "      <th>Neutral</th>\n",
       "      <th>Prediction</th>\n",
       "    </tr>\n",
       "  </thead>\n",
       "  <tbody>\n",
       "    <tr>\n",
       "      <th>0</th>\n",
       "      <td>2024-04-29</td>\n",
       "      <td>Musk makes surprise visit to Beijing as Tesla’...</td>\n",
       "      <td>0.000791</td>\n",
       "      <td>0.000181</td>\n",
       "      <td>0.999028</td>\n",
       "      <td>Neutral</td>\n",
       "    </tr>\n",
       "    <tr>\n",
       "      <th>1</th>\n",
       "      <td>2024-04-28</td>\n",
       "      <td>How working for Big Tech lost ‘dream job’ status</td>\n",
       "      <td>0.000679</td>\n",
       "      <td>0.995537</td>\n",
       "      <td>0.003784</td>\n",
       "      <td>Negative</td>\n",
       "    </tr>\n",
       "    <tr>\n",
       "      <th>2</th>\n",
       "      <td>2024-04-28</td>\n",
       "      <td>Elon Musk visits China as Tesla seeks self-dri...</td>\n",
       "      <td>0.000325</td>\n",
       "      <td>0.000226</td>\n",
       "      <td>0.999449</td>\n",
       "      <td>Neutral</td>\n",
       "    </tr>\n",
       "    <tr>\n",
       "      <th>3</th>\n",
       "      <td>2024-04-27</td>\n",
       "      <td>Nvidia jumps more than 15% this week. A key re...</td>\n",
       "      <td>0.999188</td>\n",
       "      <td>0.000620</td>\n",
       "      <td>0.000192</td>\n",
       "      <td>Positive</td>\n",
       "    </tr>\n",
       "    <tr>\n",
       "      <th>4</th>\n",
       "      <td>2024-04-27</td>\n",
       "      <td>Federal regulator finds Tesla Autopilot has ‘c...</td>\n",
       "      <td>0.000554</td>\n",
       "      <td>0.999161</td>\n",
       "      <td>0.000285</td>\n",
       "      <td>Negative</td>\n",
       "    </tr>\n",
       "    <tr>\n",
       "      <th>...</th>\n",
       "      <td>...</td>\n",
       "      <td>...</td>\n",
       "      <td>...</td>\n",
       "      <td>...</td>\n",
       "      <td>...</td>\n",
       "      <td>...</td>\n",
       "    </tr>\n",
       "    <tr>\n",
       "      <th>9413</th>\n",
       "      <td>2010-01-30</td>\n",
       "      <td>Electric Sportscar Maker Tesla Plans Public Of...</td>\n",
       "      <td>0.000202</td>\n",
       "      <td>0.000218</td>\n",
       "      <td>0.999580</td>\n",
       "      <td>Neutral</td>\n",
       "    </tr>\n",
       "    <tr>\n",
       "      <th>9414</th>\n",
       "      <td>2008-10-17</td>\n",
       "      <td>Tesla Says It Will Lay Off Employees and Delay...</td>\n",
       "      <td>0.000335</td>\n",
       "      <td>0.990678</td>\n",
       "      <td>0.008987</td>\n",
       "      <td>Negative</td>\n",
       "    </tr>\n",
       "    <tr>\n",
       "      <th>9415</th>\n",
       "      <td>2008-10-16</td>\n",
       "      <td>Tesla Stalls--Layoffs And CEO Change Coming (U...</td>\n",
       "      <td>0.000364</td>\n",
       "      <td>0.998993</td>\n",
       "      <td>0.000643</td>\n",
       "      <td>Negative</td>\n",
       "    </tr>\n",
       "    <tr>\n",
       "      <th>9416</th>\n",
       "      <td>2008-05-31</td>\n",
       "      <td>Get Ready for Tesla!</td>\n",
       "      <td>0.000263</td>\n",
       "      <td>0.000243</td>\n",
       "      <td>0.999493</td>\n",
       "      <td>Neutral</td>\n",
       "    </tr>\n",
       "    <tr>\n",
       "      <th>9417</th>\n",
       "      <td>2008-05-31</td>\n",
       "      <td>Tesla Motors Quick Facts</td>\n",
       "      <td>0.000206</td>\n",
       "      <td>0.000233</td>\n",
       "      <td>0.999562</td>\n",
       "      <td>Neutral</td>\n",
       "    </tr>\n",
       "  </tbody>\n",
       "</table>\n",
       "<p>9418 rows × 6 columns</p>\n",
       "</div>"
      ],
      "text/plain": [
       "            Date                                         News_Title  Positive  \\\n",
       "0     2024-04-29  Musk makes surprise visit to Beijing as Tesla’...  0.000791   \n",
       "1     2024-04-28   How working for Big Tech lost ‘dream job’ status  0.000679   \n",
       "2     2024-04-28  Elon Musk visits China as Tesla seeks self-dri...  0.000325   \n",
       "3     2024-04-27  Nvidia jumps more than 15% this week. A key re...  0.999188   \n",
       "4     2024-04-27  Federal regulator finds Tesla Autopilot has ‘c...  0.000554   \n",
       "...          ...                                                ...       ...   \n",
       "9413  2010-01-30  Electric Sportscar Maker Tesla Plans Public Of...  0.000202   \n",
       "9414  2008-10-17  Tesla Says It Will Lay Off Employees and Delay...  0.000335   \n",
       "9415  2008-10-16  Tesla Stalls--Layoffs And CEO Change Coming (U...  0.000364   \n",
       "9416  2008-05-31                               Get Ready for Tesla!  0.000263   \n",
       "9417  2008-05-31                           Tesla Motors Quick Facts  0.000206   \n",
       "\n",
       "      Negative   Neutral Prediction  \n",
       "0     0.000181  0.999028    Neutral  \n",
       "1     0.995537  0.003784   Negative  \n",
       "2     0.000226  0.999449    Neutral  \n",
       "3     0.000620  0.000192   Positive  \n",
       "4     0.999161  0.000285   Negative  \n",
       "...        ...       ...        ...  \n",
       "9413  0.000218  0.999580    Neutral  \n",
       "9414  0.990678  0.008987   Negative  \n",
       "9415  0.998993  0.000643   Negative  \n",
       "9416  0.000243  0.999493    Neutral  \n",
       "9417  0.000233  0.999562    Neutral  \n",
       "\n",
       "[9418 rows x 6 columns]"
      ]
     },
     "execution_count": 13,
     "metadata": {},
     "output_type": "execute_result"
    }
   ],
   "source": [
    "df_array = np.array(raw)\n",
    "df_list = list(df_array[:, 0])\n",
    "df_list1 = list(df_array[:, 1])\n",
    "table = {'Date':df_list, 'News_Title':df_list1, \"Positive\":positive, \"Negative\":negative, \"Neutral\":neutral}      \n",
    "result_ft_BERT = pd.DataFrame(table, columns = [\"Date\", \"News_Title\", \"Positive\", \"Negative\", \"Neutral\"])\n",
    "result_ft_BERT['Prediction'] = result_ft_BERT[['Positive', 'Negative', 'Neutral']].idxmax(axis=1)\n",
    "# result_ft_BERT['label'] = raw['label'].copy()\n",
    "result_ft_BERT"
   ]
  },
  {
   "cell_type": "code",
   "execution_count": 14,
   "metadata": {},
   "outputs": [
    {
     "name": "stdout",
     "output_type": "stream",
     "text": [
      "Neutral的數量: 5546\n"
     ]
    }
   ],
   "source": [
    "neutral_count = (result_ft_BERT['Prediction'] == 'Neutral').sum()\n",
    "print('Neutral的數量:', neutral_count)"
   ]
  },
  {
   "cell_type": "code",
   "execution_count": 5,
   "metadata": {},
   "outputs": [],
   "source": [
    "# import pandas as pd\n",
    "# raw = pd.read_csv('news_title_sentimentscore.csv', encoding='utf-8', names=['News_Headline\tPositive','Negative','Neutral','Prediction'])\n",
    "# filtered_df = raw[(raw['Prediction'] == 'Neutral') & (raw['Neutral'] < 0.75)]"
   ]
  },
  {
   "cell_type": "markdown",
   "metadata": {},
   "source": [
    "### Save to csv"
   ]
  },
  {
   "cell_type": "code",
   "execution_count": 11,
   "metadata": {},
   "outputs": [
    {
     "data": {
      "text/plain": [
       "pandas.core.frame.DataFrame"
      ]
     },
     "execution_count": 11,
     "metadata": {},
     "output_type": "execute_result"
    }
   ],
   "source": [
    "type(result_ft_BERT)"
   ]
  },
  {
   "cell_type": "code",
   "execution_count": 15,
   "metadata": {},
   "outputs": [],
   "source": [
    "result_ft_BERT.to_csv('News_Title.csv', index=False)"
   ]
  },
  {
   "cell_type": "code",
   "execution_count": null,
   "metadata": {},
   "outputs": [],
   "source": []
  }
 ],
 "metadata": {
  "kernelspec": {
   "display_name": "tradebot",
   "language": "python",
   "name": "python3"
  },
  "language_info": {
   "codemirror_mode": {
    "name": "ipython",
    "version": 3
   },
   "file_extension": ".py",
   "mimetype": "text/x-python",
   "name": "python",
   "nbconvert_exporter": "python",
   "pygments_lexer": "ipython3",
   "version": "3.8.10"
  }
 },
 "nbformat": 4,
 "nbformat_minor": 2
}
