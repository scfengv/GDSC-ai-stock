{
 "cells": [
  {
   "cell_type": "code",
   "execution_count": 2,
   "metadata": {},
   "outputs": [
    {
     "name": "stdout",
     "output_type": "stream",
     "text": [
      "News Num: 104\r"
     ]
    }
   ],
   "source": [
    "import time\n",
    "import pandas as pd\n",
    "\n",
    "from bs4 import BeautifulSoup\n",
    "from selenium import webdriver\n",
    "from selenium.webdriver.common.by import By\n",
    "from selenium.webdriver.common.keys import Keys\n",
    "from selenium.webdriver.chrome.options import Options\n",
    "from selenium.webdriver.support.ui import WebDriverWait\n",
    "from webdriver_manager.chrome import ChromeDriverManager\n",
    "from selenium.webdriver.chrome.service import Service\n",
    "from selenium.webdriver.support import expected_conditions as EC\n",
    "\n",
    "title_list = []\n",
    "date_list = []\n",
    "\n",
    "my_user_agent = \"Mozilla/5.0 (Windows NT 10.0; Win64; x64) AppleWebKit/537.36 (KHTML, like Gecko) Chrome/120.0.0.0 Safari/537.36\"\n",
    "chrome_options = webdriver.ChromeOptions()\n",
    "chrome_options.add_argument(\"--headless\")\n",
    "chrome_options.add_argument(\"--log-level = 3\")\n",
    "chrome_options.add_argument(f\"--user-agent = {my_user_agent}\")\n",
    "chrome_options.add_argument(\"--disable-dev-shm-usage\")\n",
    "service = Service()\n",
    "driver = webdriver.Chrome(service = service, options = chrome_options)\n",
    "\n",
    "url  = \"https://www.cnbc.com/search/?query=tsla&qsearchterm=tsla\"\n",
    "driver.get(url)\n",
    "wait = WebDriverWait(driver, 60)\n",
    "search_results = wait.until(EC.visibility_of_element_located((By.CLASS_NAME, \"SearchResults-searchResultsContainer\")))\n",
    "\n",
    "target_count = 17820\n",
    "current_count  = 0\n",
    "\n",
    "while (current_count < target_count):\n",
    "\n",
    "    block = driver.find_elements(By.CLASS_NAME, \"SearchResult-searchResultContent\")\n",
    "\n",
    "    for n in block:\n",
    "\n",
    "        try:\n",
    "            title = n.find_element(By.CLASS_NAME, \"Card-title\").text\n",
    "            title = str(title)\n",
    "            if title not in title_list:\n",
    "                title_list.append(title)\n",
    "\n",
    "                date = n.find_element(By.CLASS_NAME, \"SearchResult-publishedDate\").text\n",
    "                date = str(date).split(' ')\n",
    "                date_list.append(date[0])\n",
    "                current_count += 1\n",
    "\n",
    "        except Exception as e:\n",
    "            print(e)\n",
    "            continue\n",
    "    \n",
    "    body = driver.find_element(By.TAG_NAME, \"body\")\n",
    "    body.send_keys(Keys.PAGE_DOWN)\n",
    "    time.sleep(1)\n",
    "\n",
    "    print(f\"News Num: {current_count}\", end = \"\\r\")\n",
    "    \n",
    "df = pd.DataFrame({\n",
    "    \"Date\": date_list,\n",
    "    \"News Title\": title_list\n",
    "})\n",
    "\n",
    "df.to_csv(\"News_history.csv\", index = False)\n",
    "driver.quit()"
   ]
  },
  {
   "cell_type": "code",
   "execution_count": 4,
   "metadata": {},
   "outputs": [],
   "source": [
    "import os\n",
    "\n",
    "os.chdir(\"/Users/shenchingfeng/GitHub/GDSC-ai-stock\")"
   ]
  },
  {
   "cell_type": "code",
   "execution_count": 10,
   "metadata": {},
   "outputs": [],
   "source": [
    "date = []\n",
    "title = []\n",
    "\n",
    "for i in range(0, 19):\n",
    "    d = pd.read_csv(f\"News_History_{i}.csv\")\n",
    "    date.extend(d[\"Date\"])\n",
    "    title.extend(d[\"News Title\"])\n",
    "\n",
    "df = pd.DataFrame({\n",
    "    \"Date\": date,\n",
    "    \"News_Title\": title\n",
    "})"
   ]
  },
  {
   "cell_type": "code",
   "execution_count": 12,
   "metadata": {},
   "outputs": [],
   "source": [
    "df.drop_duplicates(keep = 'last', inplace = True)"
   ]
  },
  {
   "cell_type": "code",
   "execution_count": 16,
   "metadata": {},
   "outputs": [],
   "source": [
    "df['Date'] = pd.to_datetime(df['Date'])"
   ]
  },
  {
   "cell_type": "code",
   "execution_count": 27,
   "metadata": {},
   "outputs": [
    {
     "data": {
      "text/plain": [
       "Date\n",
       "2024-04-13    2\n",
       "2024-04-12    6\n",
       "2024-04-11    3\n",
       "2024-04-10    4\n",
       "2024-04-09    7\n",
       "             ..\n",
       "2010-02-20    1\n",
       "2010-01-30    1\n",
       "2008-10-17    1\n",
       "2008-10-16    1\n",
       "2008-05-31    2\n",
       "Length: 1826, dtype: int64"
      ]
     },
     "execution_count": 27,
     "metadata": {},
     "output_type": "execute_result"
    }
   ],
   "source": [
    "dd = df.value_counts(subset = \"Date\").sort_index(ascending = False)\n",
    "dd"
   ]
  },
  {
   "cell_type": "code",
   "execution_count": 28,
   "metadata": {},
   "outputs": [
    {
     "data": {
      "image/png": "[encoded data removed]",
      "text/plain": [
       "<Figure size 640x480 with 1 Axes>"
      ]
     },
     "metadata": {},
     "output_type": "display_data"
    }
   ],
   "source": [
    "import matplotlib.pyplot as plt\n",
    "\n",
    "plt.plot(dd)\n",
    "plt.show()"
   ]
  },
  {
   "cell_type": "code",
   "execution_count": null,
   "metadata": {},
   "outputs": [],
   "source": []
  }
 ],
 "metadata": {
  "kernelspec": {
   "display_name": "Python 3",
   "language": "python",
   "name": "python3"
  },
  "language_info": {
   "codemirror_mode": {
    "name": "ipython",
    "version": 3
   },
   "file_extension": ".py",
   "mimetype": "text/x-python",
   "name": "python",
   "nbconvert_exporter": "python",
   "pygments_lexer": "ipython3",
   "version": "3.9.19"
  }
 },
 "nbformat": 4,
 "nbformat_minor": 2
}
