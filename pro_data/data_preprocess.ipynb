{
 "cells": [
  {
   "cell_type": "code",
   "execution_count": 1,
   "id": "aef57588-f99e-4372-9c30-7c41a3eea25c",
   "metadata": {
    "tags": []
   },
   "outputs": [
    {
     "name": "stderr",
     "output_type": "stream",
     "text": [
      "/opt/conda/lib/python3.10/site-packages/pandas/core/computation/expressions.py:21: UserWarning: Pandas requires version '2.8.4' or newer of 'numexpr' (version '2.7.3' currently installed).\n",
      "  from pandas.core.computation.check import NUMEXPR_INSTALLED\n",
      "2024-03-07 08:33:43.715987: I tensorflow/core/platform/cpu_feature_guard.cc:193] This TensorFlow binary is optimized with oneAPI Deep Neural Network Library (oneDNN) to use the following CPU instructions in performance-critical operations:  AVX2 AVX_VNNI FMA\n",
      "To enable them in other operations, rebuild TensorFlow with the appropriate compiler flags.\n",
      "2024-03-07 08:33:43.775086: I tensorflow/core/util/util.cc:169] oneDNN custom operations are on. You may see slightly different numerical results due to floating-point round-off errors from different computation orders. To turn them off, set the environment variable `TF_ENABLE_ONEDNN_OPTS=0`.\n",
      "2024-03-07 08:33:43.790850: E tensorflow/stream_executor/cuda/cuda_blas.cc:2981] Unable to register cuBLAS factory: Attempting to register factory for plugin cuBLAS when one has already been registered\n",
      "2024-03-07 08:33:44.036323: W tensorflow/stream_executor/platform/default/dso_loader.cc:64] Could not load dynamic library 'libnvinfer.so.7'; dlerror: libnvinfer.so.7: cannot open shared object file: No such file or directory\n",
      "2024-03-07 08:33:44.036354: W tensorflow/stream_executor/platform/default/dso_loader.cc:64] Could not load dynamic library 'libnvinfer_plugin.so.7'; dlerror: libnvinfer_plugin.so.7: cannot open shared object file: No such file or directory\n",
      "2024-03-07 08:33:44.036369: W tensorflow/compiler/tf2tensorrt/utils/py_utils.cc:38] TF-TRT Warning: Cannot dlopen some TensorRT libraries. If you would like to use Nvidia GPU with TensorRT, please make sure the missing libraries mentioned above are installed properly.\n"
     ]
    }
   ],
   "source": [
    "import pandas as pd\n",
    "from transformers import pipeline\n",
    "from tqdm import tqdm "
   ]
  },
  {
   "cell_type": "markdown",
   "id": "be1dfda6-737a-4249-9710-1d01d170e4e2",
   "metadata": {},
   "source": [
    "資料前處理"
   ]
  },
  {
   "cell_type": "code",
   "execution_count": 2,
   "id": "d3ad07cd-09d1-4b8d-8c0c-6d0ae8de6115",
   "metadata": {
    "tags": []
   },
   "outputs": [
    {
     "data": {
      "text/html": [
       "<div>\n",
       "<style scoped>\n",
       "    .dataframe tbody tr th:only-of-type {\n",
       "        vertical-align: middle;\n",
       "    }\n",
       "\n",
       "    .dataframe tbody tr th {\n",
       "        vertical-align: top;\n",
       "    }\n",
       "\n",
       "    .dataframe thead th {\n",
       "        text-align: right;\n",
       "    }\n",
       "</style>\n",
       "<table border=\"1\" class=\"dataframe\">\n",
       "  <thead>\n",
       "    <tr style=\"text-align: right;\">\n",
       "      <th></th>\n",
       "      <th>Date</th>\n",
       "      <th>Content</th>\n",
       "    </tr>\n",
       "  </thead>\n",
       "  <tbody>\n",
       "    <tr>\n",
       "      <th>0</th>\n",
       "      <td>2020-12-31</td>\n",
       "      <td>Tesla short sellers lost billions more on the ...</td>\n",
       "    </tr>\n",
       "    <tr>\n",
       "      <th>1</th>\n",
       "      <td>2020-12-31</td>\n",
       "      <td>Enphase joins Tesla as the latest clean tech f...</td>\n",
       "    </tr>\n",
       "    <tr>\n",
       "      <th>2</th>\n",
       "      <td>2020-12-29</td>\n",
       "      <td>In 2021, the breadth of the competitive attack...</td>\n",
       "    </tr>\n",
       "    <tr>\n",
       "      <th>3</th>\n",
       "      <td>2020-12-29</td>\n",
       "      <td>In 2021, the breadth of the competitive attack...</td>\n",
       "    </tr>\n",
       "    <tr>\n",
       "      <th>4</th>\n",
       "      <td>2020-12-28</td>\n",
       "      <td>In 2021, the breadth of the competitive attack...</td>\n",
       "    </tr>\n",
       "    <tr>\n",
       "      <th>...</th>\n",
       "      <td>...</td>\n",
       "      <td>...</td>\n",
       "    </tr>\n",
       "    <tr>\n",
       "      <th>12907</th>\n",
       "      <td>2015-02-13</td>\n",
       "      <td>Apple has assigned 100s of staffers to an elec...</td>\n",
       "    </tr>\n",
       "    <tr>\n",
       "      <th>12908</th>\n",
       "      <td>2015-01-28</td>\n",
       "      <td>Apple, Microsoft and Tesla shops are helping h...</td>\n",
       "    </tr>\n",
       "    <tr>\n",
       "      <th>12909</th>\n",
       "      <td>2015-01-17</td>\n",
       "      <td>Elon Musk says Tesla won't be profitable until...</td>\n",
       "    </tr>\n",
       "    <tr>\n",
       "      <th>12910</th>\n",
       "      <td>2015-01-14</td>\n",
       "      <td>Elon Musk says Tesla won't be profitable until...</td>\n",
       "    </tr>\n",
       "    <tr>\n",
       "      <th>12911</th>\n",
       "      <td>2015-01-12</td>\n",
       "      <td>Elon Musk is pushing hard to sell 500,000 Tesl...</td>\n",
       "    </tr>\n",
       "  </tbody>\n",
       "</table>\n",
       "<p>12912 rows × 2 columns</p>\n",
       "</div>"
      ],
      "text/plain": [
       "             Date                                            Content\n",
       "0      2020-12-31  Tesla short sellers lost billions more on the ...\n",
       "1      2020-12-31  Enphase joins Tesla as the latest clean tech f...\n",
       "2      2020-12-29  In 2021, the breadth of the competitive attack...\n",
       "3      2020-12-29  In 2021, the breadth of the competitive attack...\n",
       "4      2020-12-28  In 2021, the breadth of the competitive attack...\n",
       "...           ...                                                ...\n",
       "12907  2015-02-13  Apple has assigned 100s of staffers to an elec...\n",
       "12908  2015-01-28  Apple, Microsoft and Tesla shops are helping h...\n",
       "12909  2015-01-17  Elon Musk says Tesla won't be profitable until...\n",
       "12910  2015-01-14  Elon Musk says Tesla won't be profitable until...\n",
       "12911  2015-01-12  Elon Musk is pushing hard to sell 500,000 Tesl...\n",
       "\n",
       "[12912 rows x 2 columns]"
      ]
     },
     "execution_count": 2,
     "metadata": {},
     "output_type": "execute_result"
    }
   ],
   "source": [
    "df = pd.read_csv('./tsla_merged.csv')\n",
    "df"
   ]
  },
  {
   "cell_type": "code",
   "execution_count": 3,
   "id": "16d17062-8ef9-4bf5-b526-06f427dc0492",
   "metadata": {
    "tags": []
   },
   "outputs": [
    {
     "name": "stdout",
     "output_type": "stream",
     "text": [
      "Musk's Tesla 'master plan' big on vision, short on details \n"
     ]
    }
   ],
   "source": [
    "# DataFrame 名稱為 df，並且包含名為 'Content' 的欄位\n",
    "# 移除 'https' 後的所有文字\n",
    "df['Content'] = df['Content'].str.replace(r'https.*$', '', regex=True)\n",
    "\n",
    "# 輸出修改後的 DataFrame\n",
    "print(df['Content'][12000])"
   ]
  },
  {
   "cell_type": "code",
   "execution_count": 4,
   "id": "fca3c8fb-7458-40ee-9239-edf801c3e221",
   "metadata": {
    "tags": []
   },
   "outputs": [],
   "source": [
    "# df.to_csv('tsla_merged_final.csv', index=False) 已轉好"
   ]
  },
  {
   "cell_type": "markdown",
   "id": "4df85ddc-2f99-4d68-8cf1-5404c2424ed2",
   "metadata": {},
   "source": [
    "載入final 資料"
   ]
  },
  {
   "cell_type": "code",
   "execution_count": 4,
   "id": "398d587f-aac3-469e-915b-9d8fbfd726fe",
   "metadata": {
    "tags": []
   },
   "outputs": [
    {
     "data": {
      "text/html": [
       "<div>\n",
       "<style scoped>\n",
       "    .dataframe tbody tr th:only-of-type {\n",
       "        vertical-align: middle;\n",
       "    }\n",
       "\n",
       "    .dataframe tbody tr th {\n",
       "        vertical-align: top;\n",
       "    }\n",
       "\n",
       "    .dataframe thead th {\n",
       "        text-align: right;\n",
       "    }\n",
       "</style>\n",
       "<table border=\"1\" class=\"dataframe\">\n",
       "  <thead>\n",
       "    <tr style=\"text-align: right;\">\n",
       "      <th></th>\n",
       "      <th>Date</th>\n",
       "      <th>Content</th>\n",
       "    </tr>\n",
       "  </thead>\n",
       "  <tbody>\n",
       "    <tr>\n",
       "      <th>0</th>\n",
       "      <td>2020-12-31</td>\n",
       "      <td>Tesla short sellers lost billions more on the ...</td>\n",
       "    </tr>\n",
       "    <tr>\n",
       "      <th>1</th>\n",
       "      <td>2020-12-31</td>\n",
       "      <td>Enphase joins Tesla as the latest clean tech f...</td>\n",
       "    </tr>\n",
       "    <tr>\n",
       "      <th>2</th>\n",
       "      <td>2020-12-29</td>\n",
       "      <td>In 2021, the breadth of the competitive attack...</td>\n",
       "    </tr>\n",
       "    <tr>\n",
       "      <th>3</th>\n",
       "      <td>2020-12-29</td>\n",
       "      <td>In 2021, the breadth of the competitive attack...</td>\n",
       "    </tr>\n",
       "    <tr>\n",
       "      <th>4</th>\n",
       "      <td>2020-12-28</td>\n",
       "      <td>In 2021, the breadth of the competitive attack...</td>\n",
       "    </tr>\n",
       "    <tr>\n",
       "      <th>...</th>\n",
       "      <td>...</td>\n",
       "      <td>...</td>\n",
       "    </tr>\n",
       "    <tr>\n",
       "      <th>12907</th>\n",
       "      <td>2015-02-13</td>\n",
       "      <td>Apple has assigned 100s of staffers to an elec...</td>\n",
       "    </tr>\n",
       "    <tr>\n",
       "      <th>12908</th>\n",
       "      <td>2015-01-28</td>\n",
       "      <td>Apple, Microsoft and Tesla shops are helping h...</td>\n",
       "    </tr>\n",
       "    <tr>\n",
       "      <th>12909</th>\n",
       "      <td>2015-01-17</td>\n",
       "      <td>Elon Musk says Tesla won't be profitable until...</td>\n",
       "    </tr>\n",
       "    <tr>\n",
       "      <th>12910</th>\n",
       "      <td>2015-01-14</td>\n",
       "      <td>Elon Musk says Tesla won't be profitable until...</td>\n",
       "    </tr>\n",
       "    <tr>\n",
       "      <th>12911</th>\n",
       "      <td>2015-01-12</td>\n",
       "      <td>Elon Musk is pushing hard to sell 500,000 Tesl...</td>\n",
       "    </tr>\n",
       "  </tbody>\n",
       "</table>\n",
       "<p>12912 rows × 2 columns</p>\n",
       "</div>"
      ],
      "text/plain": [
       "             Date                                            Content\n",
       "0      2020-12-31  Tesla short sellers lost billions more on the ...\n",
       "1      2020-12-31  Enphase joins Tesla as the latest clean tech f...\n",
       "2      2020-12-29  In 2021, the breadth of the competitive attack...\n",
       "3      2020-12-29  In 2021, the breadth of the competitive attack...\n",
       "4      2020-12-28  In 2021, the breadth of the competitive attack...\n",
       "...           ...                                                ...\n",
       "12907  2015-02-13  Apple has assigned 100s of staffers to an elec...\n",
       "12908  2015-01-28  Apple, Microsoft and Tesla shops are helping h...\n",
       "12909  2015-01-17  Elon Musk says Tesla won't be profitable until...\n",
       "12910  2015-01-14  Elon Musk says Tesla won't be profitable until...\n",
       "12911  2015-01-12  Elon Musk is pushing hard to sell 500,000 Tesl...\n",
       "\n",
       "[12912 rows x 2 columns]"
      ]
     },
     "execution_count": 4,
     "metadata": {},
     "output_type": "execute_result"
    }
   ],
   "source": [
    "df = pd.read_csv('./tsla_merged_final.csv')\n",
    "df"
   ]
  },
  {
   "cell_type": "code",
   "execution_count": 5,
   "id": "64c7300f-c14a-49af-8f64-64d584df1977",
   "metadata": {
    "tags": []
   },
   "outputs": [
    {
     "data": {
      "text/html": [
       "<div>\n",
       "<style scoped>\n",
       "    .dataframe tbody tr th:only-of-type {\n",
       "        vertical-align: middle;\n",
       "    }\n",
       "\n",
       "    .dataframe tbody tr th {\n",
       "        vertical-align: top;\n",
       "    }\n",
       "\n",
       "    .dataframe thead th {\n",
       "        text-align: right;\n",
       "    }\n",
       "</style>\n",
       "<table border=\"1\" class=\"dataframe\">\n",
       "  <thead>\n",
       "    <tr style=\"text-align: right;\">\n",
       "      <th></th>\n",
       "      <th>Date</th>\n",
       "      <th>Content</th>\n",
       "    </tr>\n",
       "  </thead>\n",
       "  <tbody>\n",
       "    <tr>\n",
       "      <th>0</th>\n",
       "      <td>2020-12-31</td>\n",
       "      <td>Tesla short sellers lost billions more on the ...</td>\n",
       "    </tr>\n",
       "    <tr>\n",
       "      <th>1</th>\n",
       "      <td>2020-12-31</td>\n",
       "      <td>Enphase joins Tesla as the latest clean tech f...</td>\n",
       "    </tr>\n",
       "    <tr>\n",
       "      <th>2</th>\n",
       "      <td>2020-12-29</td>\n",
       "      <td>In 2021, the breadth of the competitive attack...</td>\n",
       "    </tr>\n",
       "    <tr>\n",
       "      <th>4</th>\n",
       "      <td>2020-12-28</td>\n",
       "      <td>In 2021, the breadth of the competitive attack...</td>\n",
       "    </tr>\n",
       "    <tr>\n",
       "      <th>5</th>\n",
       "      <td>2020-12-25</td>\n",
       "      <td>Elon Musk says it’s “impossible” to take Tesla...</td>\n",
       "    </tr>\n",
       "    <tr>\n",
       "      <th>...</th>\n",
       "      <td>...</td>\n",
       "      <td>...</td>\n",
       "    </tr>\n",
       "    <tr>\n",
       "      <th>12907</th>\n",
       "      <td>2015-02-13</td>\n",
       "      <td>Apple has assigned 100s of staffers to an elec...</td>\n",
       "    </tr>\n",
       "    <tr>\n",
       "      <th>12908</th>\n",
       "      <td>2015-01-28</td>\n",
       "      <td>Apple, Microsoft and Tesla shops are helping h...</td>\n",
       "    </tr>\n",
       "    <tr>\n",
       "      <th>12909</th>\n",
       "      <td>2015-01-17</td>\n",
       "      <td>Elon Musk says Tesla won't be profitable until...</td>\n",
       "    </tr>\n",
       "    <tr>\n",
       "      <th>12910</th>\n",
       "      <td>2015-01-14</td>\n",
       "      <td>Elon Musk says Tesla won't be profitable until...</td>\n",
       "    </tr>\n",
       "    <tr>\n",
       "      <th>12911</th>\n",
       "      <td>2015-01-12</td>\n",
       "      <td>Elon Musk is pushing hard to sell 500,000 Tesl...</td>\n",
       "    </tr>\n",
       "  </tbody>\n",
       "</table>\n",
       "<p>11149 rows × 2 columns</p>\n",
       "</div>"
      ],
      "text/plain": [
       "             Date                                            Content\n",
       "0      2020-12-31  Tesla short sellers lost billions more on the ...\n",
       "1      2020-12-31  Enphase joins Tesla as the latest clean tech f...\n",
       "2      2020-12-29  In 2021, the breadth of the competitive attack...\n",
       "4      2020-12-28  In 2021, the breadth of the competitive attack...\n",
       "5      2020-12-25  Elon Musk says it’s “impossible” to take Tesla...\n",
       "...           ...                                                ...\n",
       "12907  2015-02-13  Apple has assigned 100s of staffers to an elec...\n",
       "12908  2015-01-28  Apple, Microsoft and Tesla shops are helping h...\n",
       "12909  2015-01-17  Elon Musk says Tesla won't be profitable until...\n",
       "12910  2015-01-14  Elon Musk says Tesla won't be profitable until...\n",
       "12911  2015-01-12  Elon Musk is pushing hard to sell 500,000 Tesl...\n",
       "\n",
       "[11149 rows x 2 columns]"
      ]
     },
     "execution_count": 5,
     "metadata": {},
     "output_type": "execute_result"
    }
   ],
   "source": [
    "new_df = df.drop_duplicates() # 刪除重複的資料\n",
    "new_df"
   ]
  },
  {
   "cell_type": "code",
   "execution_count": 8,
   "id": "65c103fe-861a-4db8-8713-14928dba1bd8",
   "metadata": {
    "tags": []
   },
   "outputs": [
    {
     "name": "stdout",
     "output_type": "stream",
     "text": [
      "Empty DataFrame\n",
      "Columns: [Date, Content]\n",
      "Index: []\n"
     ]
    },
    {
     "name": "stderr",
     "output_type": "stream",
     "text": [
      "/tmp/ipykernel_882321/262827917.py:9: SettingWithCopyWarning: \n",
      "A value is trying to be set on a copy of a slice from a DataFrame.\n",
      "Try using .loc[row_indexer,col_indexer] = value instead\n",
      "\n",
      "See the caveats in the documentation: https://pandas.pydata.org/pandas-docs/stable/user_guide/indexing.html#returning-a-view-versus-a-copy\n",
      "  new_df['label'] = ''\n",
      "/tmp/ipykernel_882321/262827917.py:10: SettingWithCopyWarning: \n",
      "A value is trying to be set on a copy of a slice from a DataFrame.\n",
      "Try using .loc[row_indexer,col_indexer] = value instead\n",
      "\n",
      "See the caveats in the documentation: https://pandas.pydata.org/pandas-docs/stable/user_guide/indexing.html#returning-a-view-versus-a-copy\n",
      "  new_df['score'] = ''\n"
     ]
    },
    {
     "data": {
      "text/html": [
       "<div>\n",
       "<style scoped>\n",
       "    .dataframe tbody tr th:only-of-type {\n",
       "        vertical-align: middle;\n",
       "    }\n",
       "\n",
       "    .dataframe tbody tr th {\n",
       "        vertical-align: top;\n",
       "    }\n",
       "\n",
       "    .dataframe thead th {\n",
       "        text-align: right;\n",
       "    }\n",
       "</style>\n",
       "<table border=\"1\" class=\"dataframe\">\n",
       "  <thead>\n",
       "    <tr style=\"text-align: right;\">\n",
       "      <th></th>\n",
       "      <th>Date</th>\n",
       "      <th>Content</th>\n",
       "      <th>label</th>\n",
       "      <th>score</th>\n",
       "    </tr>\n",
       "  </thead>\n",
       "  <tbody>\n",
       "    <tr>\n",
       "      <th>0</th>\n",
       "      <td>2020-12-31</td>\n",
       "      <td>Tesla short sellers lost billions more on the ...</td>\n",
       "      <td></td>\n",
       "      <td></td>\n",
       "    </tr>\n",
       "    <tr>\n",
       "      <th>1</th>\n",
       "      <td>2020-12-31</td>\n",
       "      <td>Enphase joins Tesla as the latest clean tech f...</td>\n",
       "      <td></td>\n",
       "      <td></td>\n",
       "    </tr>\n",
       "    <tr>\n",
       "      <th>2</th>\n",
       "      <td>2020-12-29</td>\n",
       "      <td>In 2021, the breadth of the competitive attack...</td>\n",
       "      <td></td>\n",
       "      <td></td>\n",
       "    </tr>\n",
       "    <tr>\n",
       "      <th>4</th>\n",
       "      <td>2020-12-28</td>\n",
       "      <td>In 2021, the breadth of the competitive attack...</td>\n",
       "      <td></td>\n",
       "      <td></td>\n",
       "    </tr>\n",
       "    <tr>\n",
       "      <th>5</th>\n",
       "      <td>2020-12-25</td>\n",
       "      <td>Elon Musk says it’s “impossible” to take Tesla...</td>\n",
       "      <td></td>\n",
       "      <td></td>\n",
       "    </tr>\n",
       "    <tr>\n",
       "      <th>...</th>\n",
       "      <td>...</td>\n",
       "      <td>...</td>\n",
       "      <td>...</td>\n",
       "      <td>...</td>\n",
       "    </tr>\n",
       "    <tr>\n",
       "      <th>12907</th>\n",
       "      <td>2015-02-13</td>\n",
       "      <td>Apple has assigned 100s of staffers to an elec...</td>\n",
       "      <td></td>\n",
       "      <td></td>\n",
       "    </tr>\n",
       "    <tr>\n",
       "      <th>12908</th>\n",
       "      <td>2015-01-28</td>\n",
       "      <td>Apple, Microsoft and Tesla shops are helping h...</td>\n",
       "      <td></td>\n",
       "      <td></td>\n",
       "    </tr>\n",
       "    <tr>\n",
       "      <th>12909</th>\n",
       "      <td>2015-01-17</td>\n",
       "      <td>Elon Musk says Tesla won't be profitable until...</td>\n",
       "      <td></td>\n",
       "      <td></td>\n",
       "    </tr>\n",
       "    <tr>\n",
       "      <th>12910</th>\n",
       "      <td>2015-01-14</td>\n",
       "      <td>Elon Musk says Tesla won't be profitable until...</td>\n",
       "      <td></td>\n",
       "      <td></td>\n",
       "    </tr>\n",
       "    <tr>\n",
       "      <th>12911</th>\n",
       "      <td>2015-01-12</td>\n",
       "      <td>Elon Musk is pushing hard to sell 500,000 Tesl...</td>\n",
       "      <td></td>\n",
       "      <td></td>\n",
       "    </tr>\n",
       "  </tbody>\n",
       "</table>\n",
       "<p>11149 rows × 4 columns</p>\n",
       "</div>"
      ],
      "text/plain": [
       "             Date                                            Content label  \\\n",
       "0      2020-12-31  Tesla short sellers lost billions more on the ...         \n",
       "1      2020-12-31  Enphase joins Tesla as the latest clean tech f...         \n",
       "2      2020-12-29  In 2021, the breadth of the competitive attack...         \n",
       "4      2020-12-28  In 2021, the breadth of the competitive attack...         \n",
       "5      2020-12-25  Elon Musk says it’s “impossible” to take Tesla...         \n",
       "...           ...                                                ...   ...   \n",
       "12907  2015-02-13  Apple has assigned 100s of staffers to an elec...         \n",
       "12908  2015-01-28  Apple, Microsoft and Tesla shops are helping h...         \n",
       "12909  2015-01-17  Elon Musk says Tesla won't be profitable until...         \n",
       "12910  2015-01-14  Elon Musk says Tesla won't be profitable until...         \n",
       "12911  2015-01-12  Elon Musk is pushing hard to sell 500,000 Tesl...         \n",
       "\n",
       "      score  \n",
       "0            \n",
       "1            \n",
       "2            \n",
       "4            \n",
       "5            \n",
       "...     ...  \n",
       "12907        \n",
       "12908        \n",
       "12909        \n",
       "12910        \n",
       "12911        \n",
       "\n",
       "[11149 rows x 4 columns]"
      ]
     },
     "execution_count": 8,
     "metadata": {},
     "output_type": "execute_result"
    }
   ],
   "source": [
    "# 看一下nan的資料\n",
    "# 使用 pd.isna() 或 pd.isnull() 標識 NaN 值\n",
    "nan_rows = new_df[new_df['Content'].isna()]\n",
    "\n",
    "# 輸出包含 NaN 值的資料\n",
    "print(nan_rows)\n",
    "\n",
    "# 建立新的欄位\n",
    "new_df['label'] = ''\n",
    "new_df['score'] = ''\n",
    "new_df"
   ]
  },
  {
   "cell_type": "code",
   "execution_count": 9,
   "id": "c2581131-36bb-4789-bf30-f6cbda430e8f",
   "metadata": {
    "tags": []
   },
   "outputs": [],
   "source": [
    "new_df.to_csv('tsla_merged_res.csv', index=False)"
   ]
  },
  {
   "cell_type": "code",
   "execution_count": 10,
   "id": "289aa7ac-a9bc-4cd0-af3c-5d935a8b48a8",
   "metadata": {
    "tags": []
   },
   "outputs": [
    {
     "data": {
      "text/html": [
       "<div>\n",
       "<style scoped>\n",
       "    .dataframe tbody tr th:only-of-type {\n",
       "        vertical-align: middle;\n",
       "    }\n",
       "\n",
       "    .dataframe tbody tr th {\n",
       "        vertical-align: top;\n",
       "    }\n",
       "\n",
       "    .dataframe thead th {\n",
       "        text-align: right;\n",
       "    }\n",
       "</style>\n",
       "<table border=\"1\" class=\"dataframe\">\n",
       "  <thead>\n",
       "    <tr style=\"text-align: right;\">\n",
       "      <th></th>\n",
       "      <th>Date</th>\n",
       "      <th>Content</th>\n",
       "      <th>label</th>\n",
       "      <th>score</th>\n",
       "    </tr>\n",
       "  </thead>\n",
       "  <tbody>\n",
       "    <tr>\n",
       "      <th>0</th>\n",
       "      <td>2020-12-31</td>\n",
       "      <td>Tesla short sellers lost billions more on the ...</td>\n",
       "      <td>NaN</td>\n",
       "      <td>NaN</td>\n",
       "    </tr>\n",
       "    <tr>\n",
       "      <th>1</th>\n",
       "      <td>2020-12-31</td>\n",
       "      <td>Enphase joins Tesla as the latest clean tech f...</td>\n",
       "      <td>NaN</td>\n",
       "      <td>NaN</td>\n",
       "    </tr>\n",
       "    <tr>\n",
       "      <th>2</th>\n",
       "      <td>2020-12-29</td>\n",
       "      <td>In 2021, the breadth of the competitive attack...</td>\n",
       "      <td>NaN</td>\n",
       "      <td>NaN</td>\n",
       "    </tr>\n",
       "    <tr>\n",
       "      <th>3</th>\n",
       "      <td>2020-12-28</td>\n",
       "      <td>In 2021, the breadth of the competitive attack...</td>\n",
       "      <td>NaN</td>\n",
       "      <td>NaN</td>\n",
       "    </tr>\n",
       "    <tr>\n",
       "      <th>4</th>\n",
       "      <td>2020-12-25</td>\n",
       "      <td>Elon Musk says it’s “impossible” to take Tesla...</td>\n",
       "      <td>NaN</td>\n",
       "      <td>NaN</td>\n",
       "    </tr>\n",
       "    <tr>\n",
       "      <th>...</th>\n",
       "      <td>...</td>\n",
       "      <td>...</td>\n",
       "      <td>...</td>\n",
       "      <td>...</td>\n",
       "    </tr>\n",
       "    <tr>\n",
       "      <th>11144</th>\n",
       "      <td>2015-02-13</td>\n",
       "      <td>Apple has assigned 100s of staffers to an elec...</td>\n",
       "      <td>NaN</td>\n",
       "      <td>NaN</td>\n",
       "    </tr>\n",
       "    <tr>\n",
       "      <th>11145</th>\n",
       "      <td>2015-01-28</td>\n",
       "      <td>Apple, Microsoft and Tesla shops are helping h...</td>\n",
       "      <td>NaN</td>\n",
       "      <td>NaN</td>\n",
       "    </tr>\n",
       "    <tr>\n",
       "      <th>11146</th>\n",
       "      <td>2015-01-17</td>\n",
       "      <td>Elon Musk says Tesla won't be profitable until...</td>\n",
       "      <td>NaN</td>\n",
       "      <td>NaN</td>\n",
       "    </tr>\n",
       "    <tr>\n",
       "      <th>11147</th>\n",
       "      <td>2015-01-14</td>\n",
       "      <td>Elon Musk says Tesla won't be profitable until...</td>\n",
       "      <td>NaN</td>\n",
       "      <td>NaN</td>\n",
       "    </tr>\n",
       "    <tr>\n",
       "      <th>11148</th>\n",
       "      <td>2015-01-12</td>\n",
       "      <td>Elon Musk is pushing hard to sell 500,000 Tesl...</td>\n",
       "      <td>NaN</td>\n",
       "      <td>NaN</td>\n",
       "    </tr>\n",
       "  </tbody>\n",
       "</table>\n",
       "<p>11149 rows × 4 columns</p>\n",
       "</div>"
      ],
      "text/plain": [
       "             Date                                            Content  label  \\\n",
       "0      2020-12-31  Tesla short sellers lost billions more on the ...    NaN   \n",
       "1      2020-12-31  Enphase joins Tesla as the latest clean tech f...    NaN   \n",
       "2      2020-12-29  In 2021, the breadth of the competitive attack...    NaN   \n",
       "3      2020-12-28  In 2021, the breadth of the competitive attack...    NaN   \n",
       "4      2020-12-25  Elon Musk says it’s “impossible” to take Tesla...    NaN   \n",
       "...           ...                                                ...    ...   \n",
       "11144  2015-02-13  Apple has assigned 100s of staffers to an elec...    NaN   \n",
       "11145  2015-01-28  Apple, Microsoft and Tesla shops are helping h...    NaN   \n",
       "11146  2015-01-17  Elon Musk says Tesla won't be profitable until...    NaN   \n",
       "11147  2015-01-14  Elon Musk says Tesla won't be profitable until...    NaN   \n",
       "11148  2015-01-12  Elon Musk is pushing hard to sell 500,000 Tesl...    NaN   \n",
       "\n",
       "       score  \n",
       "0        NaN  \n",
       "1        NaN  \n",
       "2        NaN  \n",
       "3        NaN  \n",
       "4        NaN  \n",
       "...      ...  \n",
       "11144    NaN  \n",
       "11145    NaN  \n",
       "11146    NaN  \n",
       "11147    NaN  \n",
       "11148    NaN  \n",
       "\n",
       "[11149 rows x 4 columns]"
      ]
     },
     "execution_count": 10,
     "metadata": {},
     "output_type": "execute_result"
    }
   ],
   "source": [
    "new_df = pd.read_csv('./tsla_merged_res.csv')\n",
    "new_df"
   ]
  },
  {
   "cell_type": "code",
   "execution_count": 11,
   "id": "acd11c6e-c088-4342-9758-20d77744f904",
   "metadata": {
    "tags": []
   },
   "outputs": [],
   "source": [
    "# 導入pretrianed model\n",
    "disroberta = pipeline(\"text-classification\", model=\"mrm8488/distilroberta-finetuned-financial-news-sentiment-analysis\")"
   ]
  },
  {
   "cell_type": "code",
   "execution_count": 12,
   "id": "a143d84c-dc26-437f-80dd-1ee203ca4943",
   "metadata": {
    "tags": []
   },
   "outputs": [
    {
     "name": "stderr",
     "output_type": "stream",
     "text": [
      "  0%|          | 0/11149 [00:00<?, ?it/s]/tmp/ipykernel_882321/4271686135.py:5: FutureWarning: Setting an item of incompatible dtype is deprecated and will raise an error in a future version of pandas. Value 'negative' has dtype incompatible with float64, please explicitly cast to a compatible dtype first.\n",
      "  new_df.loc[i, 'label'] = res[0]['label']\n",
      "100%|██████████| 11149/11149 [01:39<00:00, 112.55it/s]"
     ]
    },
    {
     "name": "stdout",
     "output_type": "stream",
     "text": [
      "predict done\n"
     ]
    },
    {
     "name": "stderr",
     "output_type": "stream",
     "text": [
      "\n"
     ]
    }
   ],
   "source": [
    "i=0\n",
    "for line in tqdm(new_df['Content'], total=len(new_df)):\n",
    "    if isinstance(line, str):\n",
    "        res = disroberta(line)\n",
    "        new_df.loc[i, 'label'] = res[0]['label']\n",
    "        new_df.loc[i, 'score'] = res[0]['score']\n",
    "    else:\n",
    "        print(f\"Ignoring invalid data: {line}\")\n",
    "    i += 1\n",
    "    \n",
    "print(\"predict done\")"
   ]
  },
  {
   "cell_type": "code",
   "execution_count": 13,
   "id": "19bd9e95-55e2-4d9a-b3cc-a46f87dd2cee",
   "metadata": {
    "tags": []
   },
   "outputs": [
    {
     "name": "stdout",
     "output_type": "stream",
     "text": [
      "          Date                                            Content     label  \\\n",
      "0   2020-12-31  Tesla short sellers lost billions more on the ...  negative   \n",
      "1   2020-12-31  Enphase joins Tesla as the latest clean tech f...   neutral   \n",
      "2   2020-12-29  In 2021, the breadth of the competitive attack...  positive   \n",
      "3   2020-12-28  In 2021, the breadth of the competitive attack...  positive   \n",
      "4   2020-12-25  Elon Musk says it’s “impossible” to take Tesla...   neutral   \n",
      "5   2020-12-25  Elon Musk has made millionaires out of Tesla's...   neutral   \n",
      "6   2020-12-25  Elon Musk says he tried to approach Apple year...   neutral   \n",
      "7   2020-12-23  Elon Musk says he tried to approach Apple year...   neutral   \n",
      "8   2020-12-22  Elon Musk says he once tried to sell Tesla to ...   neutral   \n",
      "9   2020-12-22  Elon Musk says he tried to approach Apple year...   neutral   \n",
      "10  2020-12-22  Apple’s reported foray into making its own sel...   neutral   \n",
      "11  2020-12-21  It didn’t take long for Tesla’s big price swin...  positive   \n",
      "12  2020-12-21  Fueled by the Tesla effect, convertible bonds ...  positive   \n",
      "13  2020-12-21  Tesla shares fall 5% after being added to the ...  negative   \n",
      "14  2020-12-21  Tesla shares tumble in their trading debut on ...  negative   \n",
      "15  2020-12-20  Elon Musk inquires about converting “large tra...   neutral   \n",
      "16  2020-12-20  In a tumultuous year for stocks, few stories h...   neutral   \n",
      "17  2020-12-19  In a tumultuous year for stocks, few stories h...   neutral   \n",
      "18  2020-12-19  This 32-year-old put everything he had in Tesl...   neutral   \n",
      "19  2020-12-19  Tesla’s historic entry into the S&amp;P 500 co...  negative   \n",
      "\n",
      "       score  \n",
      "0   0.998547  \n",
      "1   0.999871  \n",
      "2   0.980603  \n",
      "3   0.980603  \n",
      "4   0.994511  \n",
      "5   0.582099  \n",
      "6   0.999782  \n",
      "7   0.999782  \n",
      "8   0.999848  \n",
      "9   0.999782  \n",
      "10  0.878129  \n",
      "11  0.801771  \n",
      "12  0.999215  \n",
      "13  0.998069  \n",
      "14  0.997918  \n",
      "15  0.999868  \n",
      "16  0.512001  \n",
      "17  0.512001  \n",
      "18  0.983539  \n",
      "19  0.996606  \n"
     ]
    }
   ],
   "source": [
    "print(new_df.head(20))"
   ]
  },
  {
   "cell_type": "code",
   "execution_count": 14,
   "id": "f1e50a7e-894f-4d81-94a2-846d9bc9f2c8",
   "metadata": {
    "tags": []
   },
   "outputs": [],
   "source": [
    "new_df.to_csv('tsla_merged_res.csv', index=False)"
   ]
  },
  {
   "cell_type": "code",
   "execution_count": null,
   "id": "35adfd7a-63e2-461a-b725-fb1353660351",
   "metadata": {},
   "outputs": [],
   "source": []
  },
  {
   "cell_type": "code",
   "execution_count": null,
   "id": "61a91390-778b-4d93-a762-2ddd6e08d76d",
   "metadata": {},
   "outputs": [],
   "source": []
  },
  {
   "cell_type": "markdown",
   "id": "5d2b2e13-7cba-472f-99bb-7124f4912410",
   "metadata": {},
   "source": [
    "測試用"
   ]
  },
  {
   "cell_type": "code",
   "execution_count": 29,
   "id": "0b4e9d41-20b1-42f8-8528-cff9ca1258d9",
   "metadata": {
    "tags": []
   },
   "outputs": [
    {
     "name": "stdout",
     "output_type": "stream",
     "text": [
      "<class 'list'>\n"
     ]
    }
   ],
   "source": [
    "print(type(res))"
   ]
  },
  {
   "cell_type": "code",
   "execution_count": 38,
   "id": "b2bdbff5-b4af-43f1-9771-3155188bfa01",
   "metadata": {
    "tags": []
   },
   "outputs": [],
   "source": [
    "# a=0\n",
    "# for i,line in new_df:\n",
    "#     print(i,line)\n",
    "#     a+=1\n",
    "#     if a>5:\n",
    "#         break"
   ]
  },
  {
   "cell_type": "code",
   "execution_count": 31,
   "id": "dedd42c8-5f68-477e-82af-a797079a78c9",
   "metadata": {
    "tags": []
   },
   "outputs": [
    {
     "data": {
      "text/html": [
       "<div>\n",
       "<style scoped>\n",
       "    .dataframe tbody tr th:only-of-type {\n",
       "        vertical-align: middle;\n",
       "    }\n",
       "\n",
       "    .dataframe tbody tr th {\n",
       "        vertical-align: top;\n",
       "    }\n",
       "\n",
       "    .dataframe thead th {\n",
       "        text-align: right;\n",
       "    }\n",
       "</style>\n",
       "<table border=\"1\" class=\"dataframe\">\n",
       "  <thead>\n",
       "    <tr style=\"text-align: right;\">\n",
       "      <th></th>\n",
       "      <th>label</th>\n",
       "      <th>score</th>\n",
       "    </tr>\n",
       "  </thead>\n",
       "  <tbody>\n",
       "    <tr>\n",
       "      <th>0</th>\n",
       "      <td>negative</td>\n",
       "      <td>0.998547</td>\n",
       "    </tr>\n",
       "  </tbody>\n",
       "</table>\n",
       "</div>"
      ],
      "text/plain": [
       "      label     score\n",
       "0  negative  0.998547"
      ]
     },
     "execution_count": 31,
     "metadata": {},
     "output_type": "execute_result"
    }
   ],
   "source": [
    "# 假設你的列表為 data_list\n",
    "data_list = [{'label': 'negative', 'score': 0.9985470175743103}]\n",
    "\n",
    "# 使用 DataFrame 构造函数將列表轉換為 DataFrame\n",
    "test = pd.DataFrame(data_list)\n",
    "test"
   ]
  },
  {
   "cell_type": "code",
   "execution_count": 28,
   "id": "1e59d877-c4d1-4a53-97cb-99ed5752a7eb",
   "metadata": {
    "tags": []
   },
   "outputs": [
    {
     "name": "stdout",
     "output_type": "stream",
     "text": [
      "\n",
      "修改後的 DataFrame:\n",
      "         Date                                            Content label score  \\\n",
      "0  2020-12-31  Tesla short sellers lost billions more on the ...               \n",
      "1  2020-12-31  Enphase joins Tesla as the latest clean tech f...               \n",
      "2  2020-12-29  In 2021, the breadth of the competitive attack...               \n",
      "3  2020-12-29  In 2021, the breadth of the competitive attack...               \n",
      "4  2020-12-28  In 2021, the breadth of the competitive attack...               \n",
      "\n",
      "    label_1   score_1  \n",
      "0       NaN       NaN  \n",
      "1  negative       NaN  \n",
      "2       NaN       NaN  \n",
      "3       NaN  0.998547  \n",
      "4  negative  0.998547  \n"
     ]
    }
   ],
   "source": [
    "df['label'] = ''\n",
    "df['score'] = ''\n",
    "# 假設你的列表為 data_list==res\n",
    "data_list = [{'label': 'negative', 'score': 0.9985470175743103}]\n",
    "\n",
    "# 使用 DataFrame 將列表轉換為 DataFrame\n",
    "result = pd.DataFrame(data_list)\n",
    "\n",
    "# 打印原始 DataFrame\n",
    "# print(\"原始 DataFrame:\")\n",
    "# print(df)\n",
    "\n",
    "# 使用 apply 方法將 'label' 和 'score' 的值分別存入 'label' 和 'score' 欄位\n",
    "df.loc[1, 'label_1'] = data_list[0]['label']\n",
    "df.loc[3, 'score_1'] = data_list[0]['score']\n",
    "\n",
    "\n",
    "# 打印修改後的 DataFrame\n",
    "print(\"\\n修改後的 DataFrame:\")\n",
    "print(df.head())"
   ]
  },
  {
   "cell_type": "code",
   "execution_count": null,
   "id": "054f9e7e-abe9-4438-8f2c-1218a563a43b",
   "metadata": {
    "tags": []
   },
   "outputs": [],
   "source": []
  },
  {
   "cell_type": "code",
   "execution_count": null,
   "id": "891c61fd-8f00-4526-b555-c750ba534f32",
   "metadata": {},
   "outputs": [],
   "source": []
  }
 ],
 "metadata": {
  "kernelspec": {
   "display_name": "Python 3 (ipykernel)",
   "language": "python",
   "name": "python3"
  },
  "language_info": {
   "codemirror_mode": {
    "name": "ipython",
    "version": 3
   },
   "file_extension": ".py",
   "mimetype": "text/x-python",
   "name": "python",
   "nbconvert_exporter": "python",
   "pygments_lexer": "ipython3",
   "version": "3.10.10"
  }
 },
 "nbformat": 4,
 "nbformat_minor": 5
}
