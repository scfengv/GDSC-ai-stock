{
 "cells": [
  {
   "cell_type": "code",
   "execution_count": 1,
   "id": "9ae110e2-385f-4160-bbae-f4900527df7a",
   "metadata": {
    "tags": []
   },
   "outputs": [
    {
     "name": "stderr",
     "output_type": "stream",
     "text": [
      "/opt/conda/lib/python3.10/site-packages/pandas/core/computation/expressions.py:21: UserWarning: Pandas requires version '2.8.4' or newer of 'numexpr' (version '2.7.3' currently installed).\n",
      "  from pandas.core.computation.check import NUMEXPR_INSTALLED\n"
     ]
    }
   ],
   "source": [
    "import pandas as pd"
   ]
  },
  {
   "cell_type": "markdown",
   "id": "34069a11-f47c-46c4-b5ae-4d3c0b76b4ab",
   "metadata": {},
   "source": [
    "Loading data"
   ]
  },
  {
   "cell_type": "code",
   "execution_count": 2,
   "id": "e1d8e3f6-db41-497d-a22b-9449fa77f42f",
   "metadata": {
    "tags": []
   },
   "outputs": [
    {
     "data": {
      "text/html": [
       "<div>\n",
       "<style scoped>\n",
       "    .dataframe tbody tr th:only-of-type {\n",
       "        vertical-align: middle;\n",
       "    }\n",
       "\n",
       "    .dataframe tbody tr th {\n",
       "        vertical-align: top;\n",
       "    }\n",
       "\n",
       "    .dataframe thead th {\n",
       "        text-align: right;\n",
       "    }\n",
       "</style>\n",
       "<table border=\"1\" class=\"dataframe\">\n",
       "  <thead>\n",
       "    <tr style=\"text-align: right;\">\n",
       "      <th></th>\n",
       "      <th>Date</th>\n",
       "      <th>Content</th>\n",
       "    </tr>\n",
       "  </thead>\n",
       "  <tbody>\n",
       "    <tr>\n",
       "      <th>0</th>\n",
       "      <td>2021-06-01</td>\n",
       "      <td>Electric-vehicle makers and suppliers, includi...</td>\n",
       "    </tr>\n",
       "    <tr>\n",
       "      <th>1</th>\n",
       "      <td>2021-05-29</td>\n",
       "      <td>Delivery for Tesla Inc.’s Model S Plaid will b...</td>\n",
       "    </tr>\n",
       "    <tr>\n",
       "      <th>2</th>\n",
       "      <td>2021-05-28</td>\n",
       "      <td>Tesla is facing further fallout in China, with...</td>\n",
       "    </tr>\n",
       "    <tr>\n",
       "      <th>3</th>\n",
       "      <td>2021-05-28</td>\n",
       "      <td>Cathie Wood's ARKK is way off its peak as bold...</td>\n",
       "    </tr>\n",
       "    <tr>\n",
       "      <th>4</th>\n",
       "      <td>2021-05-28</td>\n",
       "      <td>Tesla’s Model 3 sedan was stripped of its cove...</td>\n",
       "    </tr>\n",
       "    <tr>\n",
       "      <th>...</th>\n",
       "      <td>...</td>\n",
       "      <td>...</td>\n",
       "    </tr>\n",
       "    <tr>\n",
       "      <th>5093</th>\n",
       "      <td>2011-07-20</td>\n",
       "      <td>Tesla wins $100 million Toyota supply deal | h...</td>\n",
       "    </tr>\n",
       "    <tr>\n",
       "      <th>5094</th>\n",
       "      <td>2011-05-25</td>\n",
       "      <td>Tesla CEO: No interest in selling electric car...</td>\n",
       "    </tr>\n",
       "    <tr>\n",
       "      <th>5095</th>\n",
       "      <td>2010-12-27</td>\n",
       "      <td>Tesla Declines Most Since July After Lock-Up E...</td>\n",
       "    </tr>\n",
       "    <tr>\n",
       "      <th>5096</th>\n",
       "      <td>2010-07-06</td>\n",
       "      <td>#Tesla Shares Fall Below Electric-Car Maker's ...</td>\n",
       "    </tr>\n",
       "    <tr>\n",
       "      <th>5097</th>\n",
       "      <td>2010-06-29</td>\n",
       "      <td>#Tesla Motors Raises $226 Million in First IPO...</td>\n",
       "    </tr>\n",
       "  </tbody>\n",
       "</table>\n",
       "<p>5098 rows × 2 columns</p>\n",
       "</div>"
      ],
      "text/plain": [
       "            Date                                            Content\n",
       "0     2021-06-01  Electric-vehicle makers and suppliers, includi...\n",
       "1     2021-05-29  Delivery for Tesla Inc.’s Model S Plaid will b...\n",
       "2     2021-05-28  Tesla is facing further fallout in China, with...\n",
       "3     2021-05-28  Cathie Wood's ARKK is way off its peak as bold...\n",
       "4     2021-05-28  Tesla’s Model 3 sedan was stripped of its cove...\n",
       "...          ...                                                ...\n",
       "5093  2011-07-20  Tesla wins $100 million Toyota supply deal | h...\n",
       "5094  2011-05-25  Tesla CEO: No interest in selling electric car...\n",
       "5095  2010-12-27  Tesla Declines Most Since July After Lock-Up E...\n",
       "5096  2010-07-06  #Tesla Shares Fall Below Electric-Car Maker's ...\n",
       "5097  2010-06-29  #Tesla Motors Raises $226 Million in First IPO...\n",
       "\n",
       "[5098 rows x 2 columns]"
      ]
     },
     "execution_count": 2,
     "metadata": {},
     "output_type": "execute_result"
    }
   ],
   "source": [
    "df = pd.read_csv('./tweets_raw/TSLA_20100629_20210602_business_t_Tesla_en.csv')\n",
    "df"
   ]
  },
  {
   "cell_type": "code",
   "execution_count": 3,
   "id": "724ab2a7-6e09-45c7-abf8-4915b6d1cd2d",
   "metadata": {
    "tags": []
   },
   "outputs": [
    {
     "data": {
      "text/html": [
       "<div>\n",
       "<style scoped>\n",
       "    .dataframe tbody tr th:only-of-type {\n",
       "        vertical-align: middle;\n",
       "    }\n",
       "\n",
       "    .dataframe tbody tr th {\n",
       "        vertical-align: top;\n",
       "    }\n",
       "\n",
       "    .dataframe thead th {\n",
       "        text-align: right;\n",
       "    }\n",
       "</style>\n",
       "<table border=\"1\" class=\"dataframe\">\n",
       "  <thead>\n",
       "    <tr style=\"text-align: right;\">\n",
       "      <th></th>\n",
       "      <th>Date</th>\n",
       "      <th>Content</th>\n",
       "    </tr>\n",
       "  </thead>\n",
       "  <tbody>\n",
       "    <tr>\n",
       "      <th>0</th>\n",
       "      <td>2021-06-01</td>\n",
       "      <td>Electric-vehicle makers and suppliers, includi...</td>\n",
       "    </tr>\n",
       "    <tr>\n",
       "      <th>1</th>\n",
       "      <td>2021-05-29</td>\n",
       "      <td>Delivery for Tesla Inc.’s Model S Plaid will b...</td>\n",
       "    </tr>\n",
       "    <tr>\n",
       "      <th>2</th>\n",
       "      <td>2021-05-28</td>\n",
       "      <td>Tesla is facing further fallout in China, with...</td>\n",
       "    </tr>\n",
       "    <tr>\n",
       "      <th>3</th>\n",
       "      <td>2021-05-28</td>\n",
       "      <td>Cathie Wood's ARKK is way off its peak as bold...</td>\n",
       "    </tr>\n",
       "    <tr>\n",
       "      <th>4</th>\n",
       "      <td>2021-05-28</td>\n",
       "      <td>Tesla’s Model 3 sedan was stripped of its cove...</td>\n",
       "    </tr>\n",
       "    <tr>\n",
       "      <th>...</th>\n",
       "      <td>...</td>\n",
       "      <td>...</td>\n",
       "    </tr>\n",
       "    <tr>\n",
       "      <th>5093</th>\n",
       "      <td>2011-07-20</td>\n",
       "      <td>Tesla wins $100 million Toyota supply deal | h...</td>\n",
       "    </tr>\n",
       "    <tr>\n",
       "      <th>5094</th>\n",
       "      <td>2011-05-25</td>\n",
       "      <td>Tesla CEO: No interest in selling electric car...</td>\n",
       "    </tr>\n",
       "    <tr>\n",
       "      <th>5095</th>\n",
       "      <td>2010-12-27</td>\n",
       "      <td>Tesla Declines Most Since July After Lock-Up E...</td>\n",
       "    </tr>\n",
       "    <tr>\n",
       "      <th>5096</th>\n",
       "      <td>2010-07-06</td>\n",
       "      <td>#Tesla Shares Fall Below Electric-Car Maker's ...</td>\n",
       "    </tr>\n",
       "    <tr>\n",
       "      <th>5097</th>\n",
       "      <td>2010-06-29</td>\n",
       "      <td>#Tesla Motors Raises $226 Million in First IPO...</td>\n",
       "    </tr>\n",
       "  </tbody>\n",
       "</table>\n",
       "<p>5098 rows × 2 columns</p>\n",
       "</div>"
      ],
      "text/plain": [
       "            Date                                            Content\n",
       "0     2021-06-01  Electric-vehicle makers and suppliers, includi...\n",
       "1     2021-05-29  Delivery for Tesla Inc.’s Model S Plaid will b...\n",
       "2     2021-05-28  Tesla is facing further fallout in China, with...\n",
       "3     2021-05-28  Cathie Wood's ARKK is way off its peak as bold...\n",
       "4     2021-05-28  Tesla’s Model 3 sedan was stripped of its cove...\n",
       "...          ...                                                ...\n",
       "5093  2011-07-20  Tesla wins $100 million Toyota supply deal | h...\n",
       "5094  2011-05-25  Tesla CEO: No interest in selling electric car...\n",
       "5095  2010-12-27  Tesla Declines Most Since July After Lock-Up E...\n",
       "5096  2010-07-06  #Tesla Shares Fall Below Electric-Car Maker's ...\n",
       "5097  2010-06-29  #Tesla Motors Raises $226 Million in First IPO...\n",
       "\n",
       "[5098 rows x 2 columns]"
      ]
     },
     "execution_count": 3,
     "metadata": {},
     "output_type": "execute_result"
    }
   ],
   "source": [
    "df= df.dropna()\n",
    "df=df.drop_duplicates()\n",
    "df"
   ]
  },
  {
   "cell_type": "code",
   "execution_count": 4,
   "id": "4af473d0-28fb-481b-879c-f6e373a43b38",
   "metadata": {
    "tags": []
   },
   "outputs": [
    {
     "name": "stdout",
     "output_type": "stream",
     "text": [
      "            Date                                            Content\n",
      "364   2020-12-31  Tesla short sellers lost billions more on the ...\n",
      "365   2020-12-31  Enphase joins Tesla as the latest clean tech f...\n",
      "366   2020-12-29  In 2021, the breadth of the competitive attack...\n",
      "367   2020-12-29  In 2021, the breadth of the competitive attack...\n",
      "368   2020-12-28  In 2021, the breadth of the competitive attack...\n",
      "...          ...                                                ...\n",
      "4886  2015-02-06  Tesla is going Apple picking http://t.co/nYvq8...\n",
      "4887  2015-02-06  Why Tesla is going after Apple employees http:...\n",
      "4888  2015-02-06  Tesla has hired more workers from Apple than f...\n",
      "4889  2015-01-14  Tesla shares fell the most since September thi...\n",
      "4890  2015-01-12  Introducing the $30K Tesla-killer: the Chevrol...\n",
      "\n",
      "[4527 rows x 2 columns]\n"
     ]
    }
   ],
   "source": [
    "# 篩選出特定欄位\n",
    "specified_words = ['2015','2016','2017','2018','2019','2020']\n",
    "\n",
    "# 使用 str.contains() 方法篩選包含特定字的欄位\n",
    "# filtered_df = df[df['Date'].str.contains(specified_word, case=False, na=False)]\n",
    "filtered_df1 = df[df['Date'].str.contains('|'.join(specified_words), case=False, na=False)]\n",
    "\n",
    "\n",
    "# 輸出篩選後的DataFrame\n",
    "print(filtered_df1)"
   ]
  },
  {
   "cell_type": "code",
   "execution_count": 6,
   "id": "447b25e2-70af-42b9-a80c-cef36cccef9b",
   "metadata": {
    "tags": []
   },
   "outputs": [],
   "source": [
    "filtered_df1.to_csv('tsla_merged.csv', index=False)"
   ]
  },
  {
   "cell_type": "markdown",
   "id": "055e9791-01ec-4938-9fae-4a18db742b7a",
   "metadata": {},
   "source": [
    "讀取其他csv的資料，然後轉成df"
   ]
  },
  {
   "cell_type": "code",
   "execution_count": 7,
   "id": "b2df2a33-b2e7-43f8-976e-4c8aab819eaa",
   "metadata": {
    "tags": []
   },
   "outputs": [
    {
     "data": {
      "text/html": [
       "<div>\n",
       "<style scoped>\n",
       "    .dataframe tbody tr th:only-of-type {\n",
       "        vertical-align: middle;\n",
       "    }\n",
       "\n",
       "    .dataframe tbody tr th {\n",
       "        vertical-align: top;\n",
       "    }\n",
       "\n",
       "    .dataframe thead th {\n",
       "        text-align: right;\n",
       "    }\n",
       "</style>\n",
       "<table border=\"1\" class=\"dataframe\">\n",
       "  <thead>\n",
       "    <tr style=\"text-align: right;\">\n",
       "      <th></th>\n",
       "      <th>Date</th>\n",
       "      <th>Content</th>\n",
       "    </tr>\n",
       "  </thead>\n",
       "  <tbody>\n",
       "    <tr>\n",
       "      <th>0</th>\n",
       "      <td>2021-06-01</td>\n",
       "      <td>New for subscribers: JPMorgan says buy puts in...</td>\n",
       "    </tr>\n",
       "    <tr>\n",
       "      <th>1</th>\n",
       "      <td>2021-06-01</td>\n",
       "      <td>China Tesla rival Nio sees deliveries fall in ...</td>\n",
       "    </tr>\n",
       "    <tr>\n",
       "      <th>2</th>\n",
       "      <td>2021-05-29</td>\n",
       "      <td>How Tesla is quietly expanding its energy stor...</td>\n",
       "    </tr>\n",
       "    <tr>\n",
       "      <th>3</th>\n",
       "      <td>2021-05-29</td>\n",
       "      <td>Tesla gave the Shanghai Media Group an inside ...</td>\n",
       "    </tr>\n",
       "    <tr>\n",
       "      <th>4</th>\n",
       "      <td>2021-05-28</td>\n",
       "      <td>Tesla starts using cabin cameras to make sure ...</td>\n",
       "    </tr>\n",
       "    <tr>\n",
       "      <th>...</th>\n",
       "      <td>...</td>\n",
       "      <td>...</td>\n",
       "    </tr>\n",
       "    <tr>\n",
       "      <th>4708</th>\n",
       "      <td>2013-02-11</td>\n",
       "      <td>Tesla CEO @elonmusk on CNBC: The @nytimes' rep...</td>\n",
       "    </tr>\n",
       "    <tr>\n",
       "      <th>4709</th>\n",
       "      <td>2013-02-11</td>\n",
       "      <td>Elon Musk joins @CNBCClosingBell now to discus...</td>\n",
       "    </tr>\n",
       "    <tr>\n",
       "      <th>4710</th>\n",
       "      <td>2012-02-15</td>\n",
       "      <td>Tesla Motors Reports Q4 Loss of $0.69  $TSLA h...</td>\n",
       "    </tr>\n",
       "    <tr>\n",
       "      <th>4711</th>\n",
       "      <td>2012-01-13</td>\n",
       "      <td>Tesla Motors Shares Plunge as VP of Vehicle De...</td>\n",
       "    </tr>\n",
       "    <tr>\n",
       "      <th>4712</th>\n",
       "      <td>2011-08-03</td>\n",
       "      <td>Tesla Loss Widens; Zipcar Raises 2011 Outlook\\...</td>\n",
       "    </tr>\n",
       "  </tbody>\n",
       "</table>\n",
       "<p>4711 rows × 2 columns</p>\n",
       "</div>"
      ],
      "text/plain": [
       "            Date                                            Content\n",
       "0     2021-06-01  New for subscribers: JPMorgan says buy puts in...\n",
       "1     2021-06-01  China Tesla rival Nio sees deliveries fall in ...\n",
       "2     2021-05-29  How Tesla is quietly expanding its energy stor...\n",
       "3     2021-05-29  Tesla gave the Shanghai Media Group an inside ...\n",
       "4     2021-05-28  Tesla starts using cabin cameras to make sure ...\n",
       "...          ...                                                ...\n",
       "4708  2013-02-11  Tesla CEO @elonmusk on CNBC: The @nytimes' rep...\n",
       "4709  2013-02-11  Elon Musk joins @CNBCClosingBell now to discus...\n",
       "4710  2012-02-15  Tesla Motors Reports Q4 Loss of $0.69  $TSLA h...\n",
       "4711  2012-01-13  Tesla Motors Shares Plunge as VP of Vehicle De...\n",
       "4712  2011-08-03  Tesla Loss Widens; Zipcar Raises 2011 Outlook\\...\n",
       "\n",
       "[4711 rows x 2 columns]"
      ]
     },
     "execution_count": 7,
     "metadata": {},
     "output_type": "execute_result"
    }
   ],
   "source": [
    "df = pd.read_csv('./tweets_raw/TSLA_20100629_20210602_CNBC_t_Tesla_en.csv')\n",
    "df = df.dropna()\n",
    "df =df.drop_duplicates()\n",
    "df"
   ]
  },
  {
   "cell_type": "code",
   "execution_count": 8,
   "id": "733fb98c-7fbc-4ab5-b4c5-088c54b9e2fe",
   "metadata": {
    "tags": []
   },
   "outputs": [
    {
     "name": "stdout",
     "output_type": "stream",
     "text": [
      "            Date                                            Content\n",
      "427   2020-12-31  Stocks making the biggest moves midday: Tesla,...\n",
      "428   2020-12-31  Stocks making the biggest moves premarket: Exx...\n",
      "429   2020-12-28  The first all-electric Hummer is here, and it'...\n",
      "430   2020-12-27  Wells Fargo's top predictions for 2021 include...\n",
      "431   2020-12-27  Michael Farr says Tesla is too risky a bet for...\n",
      "...          ...                                                ...\n",
      "4586  2015-01-31  These people were shocked when the driver put ...\n",
      "4587  2015-01-29  This is what happens when you put a Tesla in '...\n",
      "4588  2015-01-28  Tesla has a button called \"Insane Mode,\" which...\n",
      "4589  2015-01-23  Why you may want to buy shares of Tesla now » ...\n",
      "4590  2015-01-22  You may want to buy shares of Tesla now, says ...\n",
      "\n",
      "[4162 rows x 2 columns]\n"
     ]
    }
   ],
   "source": [
    "specified_words = ['2015','2016','2017','2018','2019','2020']\n",
    "filtered_df2 = df[df['Date'].str.contains('|'.join(specified_words), case=False, na=False)]\n",
    "print(filtered_df2)"
   ]
  },
  {
   "cell_type": "code",
   "execution_count": 9,
   "id": "e8c302ca-43be-4a2e-a8c0-f26f2cb33721",
   "metadata": {
    "tags": []
   },
   "outputs": [],
   "source": [
    "filtered_df2.to_csv('tsla_merged.csv',index=False, mode='a', header=False) # 把dataset2合併到1"
   ]
  },
  {
   "cell_type": "code",
   "execution_count": 10,
   "id": "5839fe85-c5ae-4b49-9e5d-e58f7ac20ec8",
   "metadata": {
    "tags": []
   },
   "outputs": [
    {
     "data": {
      "text/html": [
       "<div>\n",
       "<style scoped>\n",
       "    .dataframe tbody tr th:only-of-type {\n",
       "        vertical-align: middle;\n",
       "    }\n",
       "\n",
       "    .dataframe tbody tr th {\n",
       "        vertical-align: top;\n",
       "    }\n",
       "\n",
       "    .dataframe thead th {\n",
       "        text-align: right;\n",
       "    }\n",
       "</style>\n",
       "<table border=\"1\" class=\"dataframe\">\n",
       "  <thead>\n",
       "    <tr style=\"text-align: right;\">\n",
       "      <th></th>\n",
       "      <th>Date</th>\n",
       "      <th>Content</th>\n",
       "    </tr>\n",
       "  </thead>\n",
       "  <tbody>\n",
       "    <tr>\n",
       "      <th>0</th>\n",
       "      <td>2021-06-01</td>\n",
       "      <td>The price of Tesla cars is increasing because ...</td>\n",
       "    </tr>\n",
       "    <tr>\n",
       "      <th>1</th>\n",
       "      <td>2021-06-01</td>\n",
       "      <td>SEC letters claim Tesla failed to oversee Musk...</td>\n",
       "    </tr>\n",
       "    <tr>\n",
       "      <th>2</th>\n",
       "      <td>2021-06-01</td>\n",
       "      <td>Tesla is increasing prices of its cars due to ...</td>\n",
       "    </tr>\n",
       "    <tr>\n",
       "      <th>3</th>\n",
       "      <td>2021-06-01</td>\n",
       "      <td>Tesla is increasing prices of its cars as the ...</td>\n",
       "    </tr>\n",
       "    <tr>\n",
       "      <th>4</th>\n",
       "      <td>2021-06-01</td>\n",
       "      <td>The price of Tesla vehicles is increasing due ...</td>\n",
       "    </tr>\n",
       "    <tr>\n",
       "      <th>...</th>\n",
       "      <td>...</td>\n",
       "      <td>...</td>\n",
       "    </tr>\n",
       "    <tr>\n",
       "      <th>4057</th>\n",
       "      <td>2015-01-14</td>\n",
       "      <td>Tesla CEO says China sales weak, promises Mode...</td>\n",
       "    </tr>\n",
       "    <tr>\n",
       "      <th>4058</th>\n",
       "      <td>2015-01-13</td>\n",
       "      <td>Tesla CEO says China sales weak, promises Mode...</td>\n",
       "    </tr>\n",
       "    <tr>\n",
       "      <th>4059</th>\n",
       "      <td>2014-07-31</td>\n",
       "      <td>Tesla posts $61.9 million loss as second-quart...</td>\n",
       "    </tr>\n",
       "    <tr>\n",
       "      <th>4060</th>\n",
       "      <td>2013-01-29</td>\n",
       "      <td>Tesla CEO extends help to Boeing on battery is...</td>\n",
       "    </tr>\n",
       "    <tr>\n",
       "      <th>4061</th>\n",
       "      <td>2010-06-29</td>\n",
       "      <td>Carmaker Tesla's stock zooms 40 percent on fir...</td>\n",
       "    </tr>\n",
       "  </tbody>\n",
       "</table>\n",
       "<p>4062 rows × 2 columns</p>\n",
       "</div>"
      ],
      "text/plain": [
       "            Date                                            Content\n",
       "0     2021-06-01  The price of Tesla cars is increasing because ...\n",
       "1     2021-06-01  SEC letters claim Tesla failed to oversee Musk...\n",
       "2     2021-06-01  Tesla is increasing prices of its cars due to ...\n",
       "3     2021-06-01  Tesla is increasing prices of its cars as the ...\n",
       "4     2021-06-01  The price of Tesla vehicles is increasing due ...\n",
       "...          ...                                                ...\n",
       "4057  2015-01-14  Tesla CEO says China sales weak, promises Mode...\n",
       "4058  2015-01-13  Tesla CEO says China sales weak, promises Mode...\n",
       "4059  2014-07-31  Tesla posts $61.9 million loss as second-quart...\n",
       "4060  2013-01-29  Tesla CEO extends help to Boeing on battery is...\n",
       "4061  2010-06-29  Carmaker Tesla's stock zooms 40 percent on fir...\n",
       "\n",
       "[4062 rows x 2 columns]"
      ]
     },
     "execution_count": 10,
     "metadata": {},
     "output_type": "execute_result"
    }
   ],
   "source": [
    "df = pd.read_csv('./tweets_raw/TSLA_20100629_20210602_Reuters_t_Tesla_en.csv')\n",
    "df = df.dropna()\n",
    "df = df.drop_duplicates()\n",
    "df"
   ]
  },
  {
   "cell_type": "code",
   "execution_count": 11,
   "id": "2ba1681f-95a0-4019-9f51-e611b80c1635",
   "metadata": {
    "tags": []
   },
   "outputs": [
    {
     "name": "stdout",
     "output_type": "stream",
     "text": [
      "            Date                                            Content\n",
      "656   2020-12-29  China's Yahua agrees five-year deal to supply ...\n",
      "657   2020-12-29  China's Yahua agrees five-year deal to supply ...\n",
      "658   2020-12-28  Tesla to start operations in India next year -...\n",
      "659   2020-12-28  Tesla to start operations in India next year -...\n",
      "660   2020-12-28  ICYMI: The Tesla Model 3 taxi, which hit New Y...\n",
      "...          ...                                                ...\n",
      "4054  2015-08-13  Tesla seeks to raise about $500 million throug...\n",
      "4055  2015-08-10  Tesla burns cash, loses more than $4,000 on ev...\n",
      "4056  2015-08-09  Insight: Tesla burns cash, loses more than $4,...\n",
      "4057  2015-01-14  Tesla CEO says China sales weak, promises Mode...\n",
      "4058  2015-01-13  Tesla CEO says China sales weak, promises Mode...\n",
      "\n",
      "[3403 rows x 2 columns]\n"
     ]
    }
   ],
   "source": [
    "filtered_df3 = df[df['Date'].str.contains('|'.join(specified_words), case=False, na=False)]\n",
    "print(filtered_df3)"
   ]
  },
  {
   "cell_type": "code",
   "execution_count": 12,
   "id": "c742d227-37b8-46c1-9a60-7d5827d31a90",
   "metadata": {
    "tags": []
   },
   "outputs": [],
   "source": [
    "filtered_df3.to_csv('tsla_merged.csv',index=False, mode='a', header=False) # 把dataset3合併到1"
   ]
  },
  {
   "cell_type": "code",
   "execution_count": 13,
   "id": "5707a340-4d2d-41ba-aa01-145553895b65",
   "metadata": {
    "tags": []
   },
   "outputs": [
    {
     "data": {
      "text/html": [
       "<div>\n",
       "<style scoped>\n",
       "    .dataframe tbody tr th:only-of-type {\n",
       "        vertical-align: middle;\n",
       "    }\n",
       "\n",
       "    .dataframe tbody tr th {\n",
       "        vertical-align: top;\n",
       "    }\n",
       "\n",
       "    .dataframe thead th {\n",
       "        text-align: right;\n",
       "    }\n",
       "</style>\n",
       "<table border=\"1\" class=\"dataframe\">\n",
       "  <thead>\n",
       "    <tr style=\"text-align: right;\">\n",
       "      <th></th>\n",
       "      <th>Date</th>\n",
       "      <th>Content</th>\n",
       "    </tr>\n",
       "  </thead>\n",
       "  <tbody>\n",
       "    <tr>\n",
       "      <th>0</th>\n",
       "      <td>2021-06-01</td>\n",
       "      <td>Tesla failed to oversee Elon Musk's tweets in ...</td>\n",
       "    </tr>\n",
       "    <tr>\n",
       "      <th>1</th>\n",
       "      <td>2021-06-01</td>\n",
       "      <td>Who was the highest and lowest paid CEO last y...</td>\n",
       "    </tr>\n",
       "    <tr>\n",
       "      <th>2</th>\n",
       "      <td>2021-06-01</td>\n",
       "      <td>See the WSJ’s annual ranking of CEO pay. Compa...</td>\n",
       "    </tr>\n",
       "    <tr>\n",
       "      <th>3</th>\n",
       "      <td>2021-05-26</td>\n",
       "      <td>Tesla said all data generated from cars it sol...</td>\n",
       "    </tr>\n",
       "    <tr>\n",
       "      <th>4</th>\n",
       "      <td>2021-05-25</td>\n",
       "      <td>Driverless startups like Waymo, Cruise and Aur...</td>\n",
       "    </tr>\n",
       "    <tr>\n",
       "      <th>...</th>\n",
       "      <td>...</td>\n",
       "      <td>...</td>\n",
       "    </tr>\n",
       "    <tr>\n",
       "      <th>982</th>\n",
       "      <td>2013-05-10</td>\n",
       "      <td>Is Tesla Model S the best car ever? Consumer R...</td>\n",
       "    </tr>\n",
       "    <tr>\n",
       "      <th>983</th>\n",
       "      <td>2013-04-03</td>\n",
       "      <td>The new leasing plan for Tesla's Model S inclu...</td>\n",
       "    </tr>\n",
       "    <tr>\n",
       "      <th>984</th>\n",
       "      <td>2012-07-07</td>\n",
       "      <td>Tesla's new Model S is no eat-your-broccoli al...</td>\n",
       "    </tr>\n",
       "    <tr>\n",
       "      <th>985</th>\n",
       "      <td>2010-11-12</td>\n",
       "      <td>Tesla, maker of electric sports cars, expects ...</td>\n",
       "    </tr>\n",
       "    <tr>\n",
       "      <th>986</th>\n",
       "      <td>2010-07-02</td>\n",
       "      <td>Tesla shot up 57% after its IPO this week, the...</td>\n",
       "    </tr>\n",
       "  </tbody>\n",
       "</table>\n",
       "<p>987 rows × 2 columns</p>\n",
       "</div>"
      ],
      "text/plain": [
       "           Date                                            Content\n",
       "0    2021-06-01  Tesla failed to oversee Elon Musk's tweets in ...\n",
       "1    2021-06-01  Who was the highest and lowest paid CEO last y...\n",
       "2    2021-06-01  See the WSJ’s annual ranking of CEO pay. Compa...\n",
       "3    2021-05-26  Tesla said all data generated from cars it sol...\n",
       "4    2021-05-25  Driverless startups like Waymo, Cruise and Aur...\n",
       "..          ...                                                ...\n",
       "982  2013-05-10  Is Tesla Model S the best car ever? Consumer R...\n",
       "983  2013-04-03  The new leasing plan for Tesla's Model S inclu...\n",
       "984  2012-07-07  Tesla's new Model S is no eat-your-broccoli al...\n",
       "985  2010-11-12  Tesla, maker of electric sports cars, expects ...\n",
       "986  2010-07-02  Tesla shot up 57% after its IPO this week, the...\n",
       "\n",
       "[987 rows x 2 columns]"
      ]
     },
     "execution_count": 13,
     "metadata": {},
     "output_type": "execute_result"
    }
   ],
   "source": [
    "df = pd.read_csv('./tweets_raw/TSLA_20100629_20210602_WSJ_t_Tesla_en.csv')\n",
    "df = df.dropna()\n",
    "df = df.drop_duplicates()\n",
    "df"
   ]
  },
  {
   "cell_type": "code",
   "execution_count": 14,
   "id": "f07c2ea6-2f6e-408d-9433-f7666039366e",
   "metadata": {
    "tags": []
   },
   "outputs": [
    {
     "name": "stdout",
     "output_type": "stream",
     "text": [
      "           Date                                            Content\n",
      "129  2020-12-31  Tesla went public in 2010 with an IPO price of...\n",
      "130  2020-12-28  “Spend less time in conference rooms, less tim...\n",
      "131  2020-12-26  Tesla went public in 2010 with an IPO price of...\n",
      "132  2020-12-26  Elon Musk said he approached Apple's Tim Cook ...\n",
      "133  2020-12-25  Elon Musk said he approached Apple's Tim Cook ...\n",
      "..          ...                                                ...\n",
      "944  2015-02-13  Apple has assigned 100s of staffers to an elec...\n",
      "945  2015-01-28  Apple, Microsoft and Tesla shops are helping h...\n",
      "946  2015-01-17  Elon Musk says Tesla won't be profitable until...\n",
      "947  2015-01-14  Elon Musk says Tesla won't be profitable until...\n",
      "948  2015-01-12  Elon Musk is pushing hard to sell 500,000 Tesl...\n",
      "\n",
      "[820 rows x 2 columns]\n"
     ]
    }
   ],
   "source": [
    "filtered_df4 = df[df['Date'].str.contains('|'.join(specified_words), case=False, na=False)]\n",
    "print(filtered_df4)"
   ]
  },
  {
   "cell_type": "code",
   "execution_count": 15,
   "id": "0a341495-018e-4bc2-bed8-5c7824cb7990",
   "metadata": {
    "tags": []
   },
   "outputs": [],
   "source": [
    "filtered_df4.to_csv('tsla_merged.csv',index=False, mode='a', header=False) # 把dataset4合併到1"
   ]
  },
  {
   "cell_type": "code",
   "execution_count": null,
   "id": "8ba3a93c-ebc9-4c80-964f-6accc43541d5",
   "metadata": {},
   "outputs": [],
   "source": []
  },
  {
   "cell_type": "code",
   "execution_count": null,
   "id": "8b2206e2-07a2-4ec3-bb9d-0c16e85c8558",
   "metadata": {},
   "outputs": [],
   "source": []
  },
  {
   "cell_type": "code",
   "execution_count": null,
   "id": "0582d528-bf7f-4376-b3eb-51417ead197e",
   "metadata": {},
   "outputs": [],
   "source": []
  },
  {
   "cell_type": "code",
   "execution_count": null,
   "id": "91df1f56-5b5c-4683-906e-f150ee73e326",
   "metadata": {},
   "outputs": [],
   "source": []
  },
  {
   "cell_type": "code",
   "execution_count": null,
   "id": "da03d248-c95a-4139-b7e5-3b72c0e14d7a",
   "metadata": {},
   "outputs": [],
   "source": [
    "df.drop_duplicates(subset = ['text'], keep = 'last', inplace = True)\n",
    "df['text'] = df['text'].replace(' ', '')\n",
    "df = df[(df['text'] != '') & (df['text'].notnull())]\n",
    "print(len(df))"
   ]
  },
  {
   "cell_type": "code",
   "execution_count": 22,
   "id": "76e7ed81-76d6-4648-93d0-0202c5330cd1",
   "metadata": {
    "tags": []
   },
   "outputs": [
    {
     "name": "stdout",
     "output_type": "stream",
     "text": [
      "             Date                                          Content_x  \\\n",
      "0      2020-12-31  Tesla short sellers lost billions more on the ...   \n",
      "1      2020-12-31  Tesla short sellers lost billions more on the ...   \n",
      "2      2020-12-31  Enphase joins Tesla as the latest clean tech f...   \n",
      "3      2020-12-31  Enphase joins Tesla as the latest clean tech f...   \n",
      "4      2020-12-28  In 2021, the breadth of the competitive attack...   \n",
      "...           ...                                                ...   \n",
      "18076  2015-02-11  EARNINGS: Tesla falls short, posts quarterly l...   \n",
      "18077  2015-02-10  Fiat Chrysler's stock is now outperforming Tes...   \n",
      "18078  2015-02-10  Fiat Chrysler's stock is now outperforming Tes...   \n",
      "18079  2015-02-10  Fiat Chrysler's stock is now outperforming Tes...   \n",
      "18080  2015-02-09  Tesla's secret weapon: Former Apple employees ...   \n",
      "\n",
      "                                               Content_y  \n",
      "0      Stocks making the biggest moves midday: Tesla,...  \n",
      "1      Stocks making the biggest moves premarket: Exx...  \n",
      "2      Stocks making the biggest moves midday: Tesla,...  \n",
      "3      Stocks making the biggest moves premarket: Exx...  \n",
      "4      The first all-electric Hummer is here, and it'...  \n",
      "...                                                  ...  \n",
      "18076  Tesla CEO Elon Musk is threatening to fire exe...  \n",
      "18077  Why Tesla CEO Elon Musk is threatening firings...  \n",
      "18078  Tesla CEO Elon Musk is threatening to fire exe...  \n",
      "18079  4 reasons to be cautious into Tesla earnings: ...  \n",
      "18080  4 reasons to be cautious into Tesla earnings »...  \n",
      "\n",
      "[18081 rows x 3 columns]\n"
     ]
    }
   ],
   "source": [
    "# 合併1&2\n",
    "# 假設 df1 和 df2 是你要合併的兩個 DataFrame\n",
    "# 假設你要依照某個共同的欄位進行合併，例如 '共同欄位'\n",
    "merged_df = pd.merge(filtered_df1, filtered_df2, on='Date', how='inner')\n",
    "\n",
    "# 如果你要根據索引合併，可以使用 left_index=True 和 right_index=True\n",
    "# merged_df = pd.merge(df1, df2, left_index=True, right_index=True, how='inner')\n",
    "\n",
    "# 輸出合併後的 DataFrame\n",
    "print(merged_df)"
   ]
  }
 ],
 "metadata": {
  "kernelspec": {
   "display_name": "Python 3 (ipykernel)",
   "language": "python",
   "name": "python3"
  },
  "language_info": {
   "codemirror_mode": {
    "name": "ipython",
    "version": 3
   },
   "file_extension": ".py",
   "mimetype": "text/x-python",
   "name": "python",
   "nbconvert_exporter": "python",
   "pygments_lexer": "ipython3",
   "version": "3.10.10"
  }
 },
 "nbformat": 4,
 "nbformat_minor": 5
}
