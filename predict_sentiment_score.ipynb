{
 "cells": [
  {
   "cell_type": "markdown",
   "metadata": {},
   "source": [
    "### Packages"
   ]
  },
  {
   "cell_type": "code",
   "execution_count": 1,
   "metadata": {},
   "outputs": [
    {
     "name": "stderr",
     "output_type": "stream",
     "text": [
      "/root/.virtualenvs/tradebot/lib/python3.8/site-packages/tqdm/auto.py:21: TqdmWarning: IProgress not found. Please update jupyter and ipywidgets. See https://ipywidgets.readthedocs.io/en/stable/user_install.html\n",
      "  from .autonotebook import tqdm as notebook_tqdm\n",
      "2024-04-18 02:08:42.838340: I tensorflow/core/util/port.cc:110] oneDNN custom operations are on. You may see slightly different numerical results due to floating-point round-off errors from different computation orders. To turn them off, set the environment variable `TF_ENABLE_ONEDNN_OPTS=0`.\n",
      "2024-04-18 02:08:43.111604: I tensorflow/core/platform/cpu_feature_guard.cc:182] This TensorFlow binary is optimized to use available CPU instructions in performance-critical operations.\n",
      "To enable the following instructions: AVX2 AVX_VNNI FMA, in other operations, rebuild TensorFlow with the appropriate compiler flags.\n",
      "2024-04-18 02:08:43.859529: W tensorflow/compiler/tf2tensorrt/utils/py_utils.cc:38] TF-TRT Warning: Could not find TensorRT\n"
     ]
    }
   ],
   "source": [
    "import os\n",
    "import random\n",
    "import numpy as np\n",
    "import pandas as pd\n",
    "import matplotlib.pyplot as plt\n",
    "import seaborn as sns\n",
    "from datasets import Dataset \n",
    "from functools import partial\n",
    "\n",
    "import transformers\n",
    "from transformers import BertTokenizer, Trainer, BertForSequenceClassification, TrainingArguments, BertConfig\n",
    "from transformers import PreTrainedModel, PreTrainedTokenizer, PretrainedConfig, AdamW\n",
    "\n",
    "import torch\n",
    "import torch.optim as optim\n",
    "from sklearn.model_selection import train_test_split\n",
    "from sklearn.metrics import classification_report, confusion_matrix, accuracy_score, roc_auc_score\n",
    "from sklearn.metrics import auc, precision_recall_curve, average_precision_score, roc_curve, f1_score"
   ]
  },
  {
   "cell_type": "markdown",
   "metadata": {},
   "source": [
    "### Import pretrained model"
   ]
  },
  {
   "cell_type": "code",
   "execution_count": 2,
   "metadata": {},
   "outputs": [],
   "source": [
    "tuned_bert_model = BertForSequenceClassification.from_pretrained('BERT_fine_tuned_1', id2label={0: 'Neutral', 1: 'Positive', 2: 'Negative'})\n",
    "senti_tokenizer = BertTokenizer.from_pretrained('bert-base-uncased')"
   ]
  },
  {
   "cell_type": "code",
   "execution_count": 3,
   "metadata": {},
   "outputs": [
    {
     "data": {
      "text/plain": [
       "{0: 'Neutral', 1: 'Positive', 2: 'Negative'}"
      ]
     },
     "execution_count": 3,
     "metadata": {},
     "output_type": "execute_result"
    }
   ],
   "source": [
    "tuned_bert_model.config.id2label"
   ]
  },
  {
   "cell_type": "markdown",
   "metadata": {},
   "source": [
    "### Load data"
   ]
  },
  {
   "cell_type": "code",
   "execution_count": 7,
   "metadata": {},
   "outputs": [
    {
     "data": {
      "text/html": [
       "<div>\n",
       "<style scoped>\n",
       "    .dataframe tbody tr th:only-of-type {\n",
       "        vertical-align: middle;\n",
       "    }\n",
       "\n",
       "    .dataframe tbody tr th {\n",
       "        vertical-align: top;\n",
       "    }\n",
       "\n",
       "    .dataframe thead th {\n",
       "        text-align: right;\n",
       "    }\n",
       "</style>\n",
       "<table border=\"1\" class=\"dataframe\">\n",
       "  <thead>\n",
       "    <tr style=\"text-align: right;\">\n",
       "      <th></th>\n",
       "      <th>Date</th>\n",
       "      <th>News_Headline</th>\n",
       "    </tr>\n",
       "  </thead>\n",
       "  <tbody>\n",
       "    <tr>\n",
       "      <th>1</th>\n",
       "      <td>2020-12-31</td>\n",
       "      <td>Tesla short sellers lost billions more on the ...</td>\n",
       "    </tr>\n",
       "    <tr>\n",
       "      <th>2</th>\n",
       "      <td>2020-12-31</td>\n",
       "      <td>Enphase joins Tesla as the latest clean tech f...</td>\n",
       "    </tr>\n",
       "    <tr>\n",
       "      <th>3</th>\n",
       "      <td>2020-12-29</td>\n",
       "      <td>In 2021, the breadth of the competitive attack...</td>\n",
       "    </tr>\n",
       "    <tr>\n",
       "      <th>4</th>\n",
       "      <td>2020-12-29</td>\n",
       "      <td>In 2021, the breadth of the competitive attack...</td>\n",
       "    </tr>\n",
       "    <tr>\n",
       "      <th>5</th>\n",
       "      <td>2020-12-28</td>\n",
       "      <td>In 2021, the breadth of the competitive attack...</td>\n",
       "    </tr>\n",
       "    <tr>\n",
       "      <th>...</th>\n",
       "      <td>...</td>\n",
       "      <td>...</td>\n",
       "    </tr>\n",
       "    <tr>\n",
       "      <th>12908</th>\n",
       "      <td>2015-02-13</td>\n",
       "      <td>Apple has assigned 100s of staffers to an elec...</td>\n",
       "    </tr>\n",
       "    <tr>\n",
       "      <th>12909</th>\n",
       "      <td>2015-01-28</td>\n",
       "      <td>Apple, Microsoft and Tesla shops are helping h...</td>\n",
       "    </tr>\n",
       "    <tr>\n",
       "      <th>12910</th>\n",
       "      <td>2015-01-17</td>\n",
       "      <td>Elon Musk says Tesla won't be profitable until...</td>\n",
       "    </tr>\n",
       "    <tr>\n",
       "      <th>12911</th>\n",
       "      <td>2015-01-14</td>\n",
       "      <td>Elon Musk says Tesla won't be profitable until...</td>\n",
       "    </tr>\n",
       "    <tr>\n",
       "      <th>12912</th>\n",
       "      <td>2015-01-12</td>\n",
       "      <td>Elon Musk is pushing hard to sell 500,000 Tesl...</td>\n",
       "    </tr>\n",
       "  </tbody>\n",
       "</table>\n",
       "<p>12912 rows × 2 columns</p>\n",
       "</div>"
      ],
      "text/plain": [
       "             Date                                      News_Headline\n",
       "1      2020-12-31  Tesla short sellers lost billions more on the ...\n",
       "2      2020-12-31  Enphase joins Tesla as the latest clean tech f...\n",
       "3      2020-12-29  In 2021, the breadth of the competitive attack...\n",
       "4      2020-12-29  In 2021, the breadth of the competitive attack...\n",
       "5      2020-12-28  In 2021, the breadth of the competitive attack...\n",
       "...           ...                                                ...\n",
       "12908  2015-02-13  Apple has assigned 100s of staffers to an elec...\n",
       "12909  2015-01-28  Apple, Microsoft and Tesla shops are helping h...\n",
       "12910  2015-01-17  Elon Musk says Tesla won't be profitable until...\n",
       "12911  2015-01-14  Elon Musk says Tesla won't be profitable until...\n",
       "12912  2015-01-12  Elon Musk is pushing hard to sell 500,000 Tesl...\n",
       "\n",
       "[12912 rows x 2 columns]"
      ]
     },
     "execution_count": 7,
     "metadata": {},
     "output_type": "execute_result"
    }
   ],
   "source": [
    "raw = pd.read_csv('tsla_merged_final.csv', encoding='utf-8', names=['Date', 'News_Headline'])\n",
    "raw = raw.drop(raw.index[0])\n",
    "raw.dropna(inplace=True)\n",
    "raw"
   ]
  },
  {
   "cell_type": "code",
   "execution_count": 8,
   "metadata": {},
   "outputs": [
    {
     "name": "stdout",
     "output_type": "stream",
     "text": [
      "12912\n"
     ]
    }
   ],
   "source": [
    "print(len(raw))"
   ]
  },
  {
   "cell_type": "code",
   "execution_count": 10,
   "metadata": {},
   "outputs": [],
   "source": [
    "from tqdm import tqdm"
   ]
  },
  {
   "cell_type": "code",
   "execution_count": 15,
   "metadata": {},
   "outputs": [
    {
     "name": "stderr",
     "output_type": "stream",
     "text": [
      "Processing: 100%|██████████| 12912/12912 [1:39:06<00:00,  2.17it/s]  \n"
     ]
    }
   ],
   "source": [
    "neutral = list()\n",
    "positive = list()\n",
    "negative = list()\n",
    "\n",
    "for i in tqdm(range(len(raw)), desc=\"Processing\"):\n",
    "    inputs = senti_tokenizer(raw.iloc[i, 1], padding=True, truncation=True, max_length=512, return_tensors='pt')  # tokenize text to be sent to model\n",
    "    outputs = tuned_bert_model(**inputs)\n",
    "    predictions = torch.nn.functional.softmax(outputs.logits, dim=-1)\n",
    "    neutral.append(predictions[0][0].tolist())\n",
    "    positive.append(predictions[0][1].tolist())\n",
    "    negative.append(predictions[0][2].tolist())"
   ]
  },
  {
   "cell_type": "code",
   "execution_count": 16,
   "metadata": {},
   "outputs": [
    {
     "data": {
      "text/html": [
       "<div>\n",
       "<style scoped>\n",
       "    .dataframe tbody tr th:only-of-type {\n",
       "        vertical-align: middle;\n",
       "    }\n",
       "\n",
       "    .dataframe tbody tr th {\n",
       "        vertical-align: top;\n",
       "    }\n",
       "\n",
       "    .dataframe thead th {\n",
       "        text-align: right;\n",
       "    }\n",
       "</style>\n",
       "<table border=\"1\" class=\"dataframe\">\n",
       "  <thead>\n",
       "    <tr style=\"text-align: right;\">\n",
       "      <th></th>\n",
       "      <th>News_Headline</th>\n",
       "      <th>Positive</th>\n",
       "      <th>Negative</th>\n",
       "      <th>Neutral</th>\n",
       "      <th>Prediction</th>\n",
       "    </tr>\n",
       "  </thead>\n",
       "  <tbody>\n",
       "    <tr>\n",
       "      <th>0</th>\n",
       "      <td>2020-12-31</td>\n",
       "      <td>0.000794</td>\n",
       "      <td>0.998949</td>\n",
       "      <td>0.000257</td>\n",
       "      <td>Negative</td>\n",
       "    </tr>\n",
       "    <tr>\n",
       "      <th>1</th>\n",
       "      <td>2020-12-31</td>\n",
       "      <td>0.000421</td>\n",
       "      <td>0.000207</td>\n",
       "      <td>0.999372</td>\n",
       "      <td>Neutral</td>\n",
       "    </tr>\n",
       "    <tr>\n",
       "      <th>2</th>\n",
       "      <td>2020-12-29</td>\n",
       "      <td>0.999180</td>\n",
       "      <td>0.000609</td>\n",
       "      <td>0.000211</td>\n",
       "      <td>Positive</td>\n",
       "    </tr>\n",
       "    <tr>\n",
       "      <th>3</th>\n",
       "      <td>2020-12-29</td>\n",
       "      <td>0.999180</td>\n",
       "      <td>0.000609</td>\n",
       "      <td>0.000211</td>\n",
       "      <td>Positive</td>\n",
       "    </tr>\n",
       "    <tr>\n",
       "      <th>4</th>\n",
       "      <td>2020-12-28</td>\n",
       "      <td>0.999180</td>\n",
       "      <td>0.000609</td>\n",
       "      <td>0.000211</td>\n",
       "      <td>Positive</td>\n",
       "    </tr>\n",
       "    <tr>\n",
       "      <th>...</th>\n",
       "      <td>...</td>\n",
       "      <td>...</td>\n",
       "      <td>...</td>\n",
       "      <td>...</td>\n",
       "      <td>...</td>\n",
       "    </tr>\n",
       "    <tr>\n",
       "      <th>12907</th>\n",
       "      <td>2015-02-13</td>\n",
       "      <td>0.000232</td>\n",
       "      <td>0.000263</td>\n",
       "      <td>0.999505</td>\n",
       "      <td>Neutral</td>\n",
       "    </tr>\n",
       "    <tr>\n",
       "      <th>12908</th>\n",
       "      <td>2015-01-28</td>\n",
       "      <td>0.000266</td>\n",
       "      <td>0.000278</td>\n",
       "      <td>0.999456</td>\n",
       "      <td>Neutral</td>\n",
       "    </tr>\n",
       "    <tr>\n",
       "      <th>12909</th>\n",
       "      <td>2015-01-17</td>\n",
       "      <td>0.000336</td>\n",
       "      <td>0.000867</td>\n",
       "      <td>0.998797</td>\n",
       "      <td>Neutral</td>\n",
       "    </tr>\n",
       "    <tr>\n",
       "      <th>12910</th>\n",
       "      <td>2015-01-14</td>\n",
       "      <td>0.000327</td>\n",
       "      <td>0.000743</td>\n",
       "      <td>0.998930</td>\n",
       "      <td>Neutral</td>\n",
       "    </tr>\n",
       "    <tr>\n",
       "      <th>12911</th>\n",
       "      <td>2015-01-12</td>\n",
       "      <td>0.000325</td>\n",
       "      <td>0.000220</td>\n",
       "      <td>0.999455</td>\n",
       "      <td>Neutral</td>\n",
       "    </tr>\n",
       "  </tbody>\n",
       "</table>\n",
       "<p>12912 rows × 5 columns</p>\n",
       "</div>"
      ],
      "text/plain": [
       "      News_Headline  Positive  Negative   Neutral Prediction\n",
       "0        2020-12-31  0.000794  0.998949  0.000257   Negative\n",
       "1        2020-12-31  0.000421  0.000207  0.999372    Neutral\n",
       "2        2020-12-29  0.999180  0.000609  0.000211   Positive\n",
       "3        2020-12-29  0.999180  0.000609  0.000211   Positive\n",
       "4        2020-12-28  0.999180  0.000609  0.000211   Positive\n",
       "...             ...       ...       ...       ...        ...\n",
       "12907    2015-02-13  0.000232  0.000263  0.999505    Neutral\n",
       "12908    2015-01-28  0.000266  0.000278  0.999456    Neutral\n",
       "12909    2015-01-17  0.000336  0.000867  0.998797    Neutral\n",
       "12910    2015-01-14  0.000327  0.000743  0.998930    Neutral\n",
       "12911    2015-01-12  0.000325  0.000220  0.999455    Neutral\n",
       "\n",
       "[12912 rows x 5 columns]"
      ]
     },
     "execution_count": 16,
     "metadata": {},
     "output_type": "execute_result"
    }
   ],
   "source": [
    "df_array = np.array(raw)\n",
    "df_list = list(df_array[:, 0])\n",
    "table = {'News_Headline':df_list, \"Positive\":positive, \"Negative\":negative, \"Neutral\":neutral}      \n",
    "result_ft_BERT = pd.DataFrame(table, columns = [\"News_Headline\", \"Positive\", \"Negative\", \"Neutral\"])\n",
    "result_ft_BERT['Prediction'] = result_ft_BERT[['Positive', 'Negative', 'Neutral']].idxmax(axis=1)\n",
    "# result_ft_BERT['label'] = raw['label'].copy()\n",
    "result_ft_BERT"
   ]
  },
  {
   "cell_type": "code",
   "execution_count": 17,
   "metadata": {},
   "outputs": [
    {
     "name": "stdout",
     "output_type": "stream",
     "text": [
      "Neutral的數量: 7532\n"
     ]
    }
   ],
   "source": [
    "neutral_count = (result_ft_BERT['Prediction'] == 'Neutral').sum()\n",
    "print('Neutral的數量:', neutral_count)"
   ]
  },
  {
   "cell_type": "markdown",
   "metadata": {},
   "source": [
    "### Save to csv"
   ]
  },
  {
   "cell_type": "code",
   "execution_count": 18,
   "metadata": {},
   "outputs": [
    {
     "data": {
      "text/plain": [
       "pandas.core.frame.DataFrame"
      ]
     },
     "execution_count": 18,
     "metadata": {},
     "output_type": "execute_result"
    }
   ],
   "source": [
    "type(result_ft_BERT)"
   ]
  },
  {
   "cell_type": "code",
   "execution_count": 19,
   "metadata": {},
   "outputs": [],
   "source": [
    "result_ft_BERT.to_csv('news_title_sentimentscore.csv', index=False)"
   ]
  },
  {
   "cell_type": "code",
   "execution_count": null,
   "metadata": {},
   "outputs": [],
   "source": []
  }
 ],
 "metadata": {
  "kernelspec": {
   "display_name": "tradebot",
   "language": "python",
   "name": "python3"
  },
  "language_info": {
   "codemirror_mode": {
    "name": "ipython",
    "version": 3
   },
   "file_extension": ".py",
   "mimetype": "text/x-python",
   "name": "python",
   "nbconvert_exporter": "python",
   "pygments_lexer": "ipython3",
   "version": "3.8.10"
  }
 },
 "nbformat": 4,
 "nbformat_minor": 2
}
