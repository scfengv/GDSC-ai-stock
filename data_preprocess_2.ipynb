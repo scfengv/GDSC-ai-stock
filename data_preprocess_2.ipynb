{
 "cells": [
  {
   "cell_type": "code",
   "execution_count": 1,
   "id": "e6a9e54b-40cb-4dce-b76f-f120ca087d6f",
   "metadata": {
    "tags": []
   },
   "outputs": [
    {
     "name": "stderr",
     "output_type": "stream",
     "text": [
      "/opt/conda/lib/python3.10/site-packages/pandas/core/computation/expressions.py:21: UserWarning: Pandas requires version '2.8.4' or newer of 'numexpr' (version '2.7.3' currently installed).\n",
      "  from pandas.core.computation.check import NUMEXPR_INSTALLED\n",
      "2024-03-07 11:51:27.664912: I tensorflow/core/platform/cpu_feature_guard.cc:193] This TensorFlow binary is optimized with oneAPI Deep Neural Network Library (oneDNN) to use the following CPU instructions in performance-critical operations:  AVX2 AVX_VNNI FMA\n",
      "To enable them in other operations, rebuild TensorFlow with the appropriate compiler flags.\n",
      "2024-03-07 11:51:27.831143: I tensorflow/core/util/util.cc:169] oneDNN custom operations are on. You may see slightly different numerical results due to floating-point round-off errors from different computation orders. To turn them off, set the environment variable `TF_ENABLE_ONEDNN_OPTS=0`.\n",
      "2024-03-07 11:51:27.899805: E tensorflow/stream_executor/cuda/cuda_blas.cc:2981] Unable to register cuBLAS factory: Attempting to register factory for plugin cuBLAS when one has already been registered\n",
      "2024-03-07 11:51:28.346466: W tensorflow/stream_executor/platform/default/dso_loader.cc:64] Could not load dynamic library 'libnvinfer.so.7'; dlerror: libnvinfer.so.7: cannot open shared object file: No such file or directory\n",
      "2024-03-07 11:51:28.346524: W tensorflow/stream_executor/platform/default/dso_loader.cc:64] Could not load dynamic library 'libnvinfer_plugin.so.7'; dlerror: libnvinfer_plugin.so.7: cannot open shared object file: No such file or directory\n",
      "2024-03-07 11:51:28.346528: W tensorflow/compiler/tf2tensorrt/utils/py_utils.cc:38] TF-TRT Warning: Cannot dlopen some TensorRT libraries. If you would like to use Nvidia GPU with TensorRT, please make sure the missing libraries mentioned above are installed properly.\n"
     ]
    }
   ],
   "source": [
    "import pandas as pd\n",
    "from transformers import pipeline\n",
    "from tqdm import tqdm "
   ]
  },
  {
   "cell_type": "code",
   "execution_count": 5,
   "id": "04b8f882-36f9-4a62-816c-b28dd425cf89",
   "metadata": {
    "tags": []
   },
   "outputs": [
    {
     "data": {
      "text/html": [
       "<div>\n",
       "<style scoped>\n",
       "    .dataframe tbody tr th:only-of-type {\n",
       "        vertical-align: middle;\n",
       "    }\n",
       "\n",
       "    .dataframe tbody tr th {\n",
       "        vertical-align: top;\n",
       "    }\n",
       "\n",
       "    .dataframe thead th {\n",
       "        text-align: right;\n",
       "    }\n",
       "</style>\n",
       "<table border=\"1\" class=\"dataframe\">\n",
       "  <thead>\n",
       "    <tr style=\"text-align: right;\">\n",
       "      <th></th>\n",
       "      <th>Date</th>\n",
       "      <th>Content</th>\n",
       "    </tr>\n",
       "  </thead>\n",
       "  <tbody>\n",
       "    <tr>\n",
       "      <th>0</th>\n",
       "      <td>2020-12-31</td>\n",
       "      <td>Tesla short sellers lost billions more on the ...</td>\n",
       "    </tr>\n",
       "    <tr>\n",
       "      <th>1</th>\n",
       "      <td>2020-12-31</td>\n",
       "      <td>Enphase joins Tesla as the latest clean tech f...</td>\n",
       "    </tr>\n",
       "    <tr>\n",
       "      <th>2</th>\n",
       "      <td>2020-12-29</td>\n",
       "      <td>In 2021, the breadth of the competitive attack...</td>\n",
       "    </tr>\n",
       "    <tr>\n",
       "      <th>3</th>\n",
       "      <td>2020-12-29</td>\n",
       "      <td>In 2021, the breadth of the competitive attack...</td>\n",
       "    </tr>\n",
       "    <tr>\n",
       "      <th>4</th>\n",
       "      <td>2020-12-28</td>\n",
       "      <td>In 2021, the breadth of the competitive attack...</td>\n",
       "    </tr>\n",
       "    <tr>\n",
       "      <th>...</th>\n",
       "      <td>...</td>\n",
       "      <td>...</td>\n",
       "    </tr>\n",
       "    <tr>\n",
       "      <th>12907</th>\n",
       "      <td>2015-02-13</td>\n",
       "      <td>Apple has assigned 100s of staffers to an elec...</td>\n",
       "    </tr>\n",
       "    <tr>\n",
       "      <th>12908</th>\n",
       "      <td>2015-01-28</td>\n",
       "      <td>Apple, Microsoft and Tesla shops are helping h...</td>\n",
       "    </tr>\n",
       "    <tr>\n",
       "      <th>12909</th>\n",
       "      <td>2015-01-17</td>\n",
       "      <td>Elon Musk says Tesla won't be profitable until...</td>\n",
       "    </tr>\n",
       "    <tr>\n",
       "      <th>12910</th>\n",
       "      <td>2015-01-14</td>\n",
       "      <td>Elon Musk says Tesla won't be profitable until...</td>\n",
       "    </tr>\n",
       "    <tr>\n",
       "      <th>12911</th>\n",
       "      <td>2015-01-12</td>\n",
       "      <td>Elon Musk is pushing hard to sell 500,000 Tesl...</td>\n",
       "    </tr>\n",
       "  </tbody>\n",
       "</table>\n",
       "<p>12912 rows × 2 columns</p>\n",
       "</div>"
      ],
      "text/plain": [
       "             Date                                            Content\n",
       "0      2020-12-31  Tesla short sellers lost billions more on the ...\n",
       "1      2020-12-31  Enphase joins Tesla as the latest clean tech f...\n",
       "2      2020-12-29  In 2021, the breadth of the competitive attack...\n",
       "3      2020-12-29  In 2021, the breadth of the competitive attack...\n",
       "4      2020-12-28  In 2021, the breadth of the competitive attack...\n",
       "...           ...                                                ...\n",
       "12907  2015-02-13  Apple has assigned 100s of staffers to an elec...\n",
       "12908  2015-01-28  Apple, Microsoft and Tesla shops are helping h...\n",
       "12909  2015-01-17  Elon Musk says Tesla won't be profitable until...\n",
       "12910  2015-01-14  Elon Musk says Tesla won't be profitable until...\n",
       "12911  2015-01-12  Elon Musk is pushing hard to sell 500,000 Tesl...\n",
       "\n",
       "[12912 rows x 2 columns]"
      ]
     },
     "execution_count": 5,
     "metadata": {},
     "output_type": "execute_result"
    }
   ],
   "source": [
    "df = pd.read_csv('./tsla_merged_final.csv')\n",
    "df"
   ]
  },
  {
   "cell_type": "code",
   "execution_count": 6,
   "id": "b55e35ca-4da3-452d-a5cb-5b629e6b154b",
   "metadata": {
    "tags": []
   },
   "outputs": [
    {
     "name": "stderr",
     "output_type": "stream",
     "text": [
      "/tmp/ipykernel_888293/22623641.py:2: SettingWithCopyWarning: \n",
      "A value is trying to be set on a copy of a slice from a DataFrame.\n",
      "Try using .loc[row_indexer,col_indexer] = value instead\n",
      "\n",
      "See the caveats in the documentation: https://pandas.pydata.org/pandas-docs/stable/user_guide/indexing.html#returning-a-view-versus-a-copy\n",
      "  new_df['label'] = ''\n",
      "/tmp/ipykernel_888293/22623641.py:3: SettingWithCopyWarning: \n",
      "A value is trying to be set on a copy of a slice from a DataFrame.\n",
      "Try using .loc[row_indexer,col_indexer] = value instead\n",
      "\n",
      "See the caveats in the documentation: https://pandas.pydata.org/pandas-docs/stable/user_guide/indexing.html#returning-a-view-versus-a-copy\n",
      "  new_df['score'] = ''\n"
     ]
    },
    {
     "data": {
      "text/html": [
       "<div>\n",
       "<style scoped>\n",
       "    .dataframe tbody tr th:only-of-type {\n",
       "        vertical-align: middle;\n",
       "    }\n",
       "\n",
       "    .dataframe tbody tr th {\n",
       "        vertical-align: top;\n",
       "    }\n",
       "\n",
       "    .dataframe thead th {\n",
       "        text-align: right;\n",
       "    }\n",
       "</style>\n",
       "<table border=\"1\" class=\"dataframe\">\n",
       "  <thead>\n",
       "    <tr style=\"text-align: right;\">\n",
       "      <th></th>\n",
       "      <th>Date</th>\n",
       "      <th>Content</th>\n",
       "      <th>label</th>\n",
       "      <th>score</th>\n",
       "    </tr>\n",
       "  </thead>\n",
       "  <tbody>\n",
       "    <tr>\n",
       "      <th>0</th>\n",
       "      <td>2020-12-31</td>\n",
       "      <td>Tesla short sellers lost billions more on the ...</td>\n",
       "      <td></td>\n",
       "      <td></td>\n",
       "    </tr>\n",
       "    <tr>\n",
       "      <th>1</th>\n",
       "      <td>2020-12-31</td>\n",
       "      <td>Enphase joins Tesla as the latest clean tech f...</td>\n",
       "      <td></td>\n",
       "      <td></td>\n",
       "    </tr>\n",
       "    <tr>\n",
       "      <th>2</th>\n",
       "      <td>2020-12-29</td>\n",
       "      <td>In 2021, the breadth of the competitive attack...</td>\n",
       "      <td></td>\n",
       "      <td></td>\n",
       "    </tr>\n",
       "    <tr>\n",
       "      <th>4</th>\n",
       "      <td>2020-12-28</td>\n",
       "      <td>In 2021, the breadth of the competitive attack...</td>\n",
       "      <td></td>\n",
       "      <td></td>\n",
       "    </tr>\n",
       "    <tr>\n",
       "      <th>5</th>\n",
       "      <td>2020-12-25</td>\n",
       "      <td>Elon Musk says it’s “impossible” to take Tesla...</td>\n",
       "      <td></td>\n",
       "      <td></td>\n",
       "    </tr>\n",
       "    <tr>\n",
       "      <th>...</th>\n",
       "      <td>...</td>\n",
       "      <td>...</td>\n",
       "      <td>...</td>\n",
       "      <td>...</td>\n",
       "    </tr>\n",
       "    <tr>\n",
       "      <th>12907</th>\n",
       "      <td>2015-02-13</td>\n",
       "      <td>Apple has assigned 100s of staffers to an elec...</td>\n",
       "      <td></td>\n",
       "      <td></td>\n",
       "    </tr>\n",
       "    <tr>\n",
       "      <th>12908</th>\n",
       "      <td>2015-01-28</td>\n",
       "      <td>Apple, Microsoft and Tesla shops are helping h...</td>\n",
       "      <td></td>\n",
       "      <td></td>\n",
       "    </tr>\n",
       "    <tr>\n",
       "      <th>12909</th>\n",
       "      <td>2015-01-17</td>\n",
       "      <td>Elon Musk says Tesla won't be profitable until...</td>\n",
       "      <td></td>\n",
       "      <td></td>\n",
       "    </tr>\n",
       "    <tr>\n",
       "      <th>12910</th>\n",
       "      <td>2015-01-14</td>\n",
       "      <td>Elon Musk says Tesla won't be profitable until...</td>\n",
       "      <td></td>\n",
       "      <td></td>\n",
       "    </tr>\n",
       "    <tr>\n",
       "      <th>12911</th>\n",
       "      <td>2015-01-12</td>\n",
       "      <td>Elon Musk is pushing hard to sell 500,000 Tesl...</td>\n",
       "      <td></td>\n",
       "      <td></td>\n",
       "    </tr>\n",
       "  </tbody>\n",
       "</table>\n",
       "<p>11149 rows × 4 columns</p>\n",
       "</div>"
      ],
      "text/plain": [
       "             Date                                            Content label  \\\n",
       "0      2020-12-31  Tesla short sellers lost billions more on the ...         \n",
       "1      2020-12-31  Enphase joins Tesla as the latest clean tech f...         \n",
       "2      2020-12-29  In 2021, the breadth of the competitive attack...         \n",
       "4      2020-12-28  In 2021, the breadth of the competitive attack...         \n",
       "5      2020-12-25  Elon Musk says it’s “impossible” to take Tesla...         \n",
       "...           ...                                                ...   ...   \n",
       "12907  2015-02-13  Apple has assigned 100s of staffers to an elec...         \n",
       "12908  2015-01-28  Apple, Microsoft and Tesla shops are helping h...         \n",
       "12909  2015-01-17  Elon Musk says Tesla won't be profitable until...         \n",
       "12910  2015-01-14  Elon Musk says Tesla won't be profitable until...         \n",
       "12911  2015-01-12  Elon Musk is pushing hard to sell 500,000 Tesl...         \n",
       "\n",
       "      score  \n",
       "0            \n",
       "1            \n",
       "2            \n",
       "4            \n",
       "5            \n",
       "...     ...  \n",
       "12907        \n",
       "12908        \n",
       "12909        \n",
       "12910        \n",
       "12911        \n",
       "\n",
       "[11149 rows x 4 columns]"
      ]
     },
     "execution_count": 6,
     "metadata": {},
     "output_type": "execute_result"
    }
   ],
   "source": [
    "new_df = df.drop_duplicates() # 刪除重複的資料\n",
    "new_df['label'] = ''\n",
    "new_df['score'] = ''\n",
    "new_df"
   ]
  },
  {
   "cell_type": "code",
   "execution_count": 7,
   "id": "c5baf49c-13f9-4634-8328-6d0e525efb5b",
   "metadata": {
    "tags": []
   },
   "outputs": [],
   "source": [
    "new_df.to_csv('tsla_merged_res_2.csv', index=False)"
   ]
  },
  {
   "cell_type": "code",
   "execution_count": 8,
   "id": "4c744443-eb76-4dba-99f1-06ad5f20f2d2",
   "metadata": {
    "tags": []
   },
   "outputs": [
    {
     "data": {
      "text/html": [
       "<div>\n",
       "<style scoped>\n",
       "    .dataframe tbody tr th:only-of-type {\n",
       "        vertical-align: middle;\n",
       "    }\n",
       "\n",
       "    .dataframe tbody tr th {\n",
       "        vertical-align: top;\n",
       "    }\n",
       "\n",
       "    .dataframe thead th {\n",
       "        text-align: right;\n",
       "    }\n",
       "</style>\n",
       "<table border=\"1\" class=\"dataframe\">\n",
       "  <thead>\n",
       "    <tr style=\"text-align: right;\">\n",
       "      <th></th>\n",
       "      <th>Date</th>\n",
       "      <th>Content</th>\n",
       "      <th>label</th>\n",
       "      <th>score</th>\n",
       "    </tr>\n",
       "  </thead>\n",
       "  <tbody>\n",
       "    <tr>\n",
       "      <th>0</th>\n",
       "      <td>2020-12-31</td>\n",
       "      <td>Tesla short sellers lost billions more on the ...</td>\n",
       "      <td>NaN</td>\n",
       "      <td>NaN</td>\n",
       "    </tr>\n",
       "    <tr>\n",
       "      <th>1</th>\n",
       "      <td>2020-12-31</td>\n",
       "      <td>Enphase joins Tesla as the latest clean tech f...</td>\n",
       "      <td>NaN</td>\n",
       "      <td>NaN</td>\n",
       "    </tr>\n",
       "    <tr>\n",
       "      <th>2</th>\n",
       "      <td>2020-12-29</td>\n",
       "      <td>In 2021, the breadth of the competitive attack...</td>\n",
       "      <td>NaN</td>\n",
       "      <td>NaN</td>\n",
       "    </tr>\n",
       "    <tr>\n",
       "      <th>3</th>\n",
       "      <td>2020-12-28</td>\n",
       "      <td>In 2021, the breadth of the competitive attack...</td>\n",
       "      <td>NaN</td>\n",
       "      <td>NaN</td>\n",
       "    </tr>\n",
       "    <tr>\n",
       "      <th>4</th>\n",
       "      <td>2020-12-25</td>\n",
       "      <td>Elon Musk says it’s “impossible” to take Tesla...</td>\n",
       "      <td>NaN</td>\n",
       "      <td>NaN</td>\n",
       "    </tr>\n",
       "    <tr>\n",
       "      <th>...</th>\n",
       "      <td>...</td>\n",
       "      <td>...</td>\n",
       "      <td>...</td>\n",
       "      <td>...</td>\n",
       "    </tr>\n",
       "    <tr>\n",
       "      <th>11144</th>\n",
       "      <td>2015-02-13</td>\n",
       "      <td>Apple has assigned 100s of staffers to an elec...</td>\n",
       "      <td>NaN</td>\n",
       "      <td>NaN</td>\n",
       "    </tr>\n",
       "    <tr>\n",
       "      <th>11145</th>\n",
       "      <td>2015-01-28</td>\n",
       "      <td>Apple, Microsoft and Tesla shops are helping h...</td>\n",
       "      <td>NaN</td>\n",
       "      <td>NaN</td>\n",
       "    </tr>\n",
       "    <tr>\n",
       "      <th>11146</th>\n",
       "      <td>2015-01-17</td>\n",
       "      <td>Elon Musk says Tesla won't be profitable until...</td>\n",
       "      <td>NaN</td>\n",
       "      <td>NaN</td>\n",
       "    </tr>\n",
       "    <tr>\n",
       "      <th>11147</th>\n",
       "      <td>2015-01-14</td>\n",
       "      <td>Elon Musk says Tesla won't be profitable until...</td>\n",
       "      <td>NaN</td>\n",
       "      <td>NaN</td>\n",
       "    </tr>\n",
       "    <tr>\n",
       "      <th>11148</th>\n",
       "      <td>2015-01-12</td>\n",
       "      <td>Elon Musk is pushing hard to sell 500,000 Tesl...</td>\n",
       "      <td>NaN</td>\n",
       "      <td>NaN</td>\n",
       "    </tr>\n",
       "  </tbody>\n",
       "</table>\n",
       "<p>11149 rows × 4 columns</p>\n",
       "</div>"
      ],
      "text/plain": [
       "             Date                                            Content  label  \\\n",
       "0      2020-12-31  Tesla short sellers lost billions more on the ...    NaN   \n",
       "1      2020-12-31  Enphase joins Tesla as the latest clean tech f...    NaN   \n",
       "2      2020-12-29  In 2021, the breadth of the competitive attack...    NaN   \n",
       "3      2020-12-28  In 2021, the breadth of the competitive attack...    NaN   \n",
       "4      2020-12-25  Elon Musk says it’s “impossible” to take Tesla...    NaN   \n",
       "...           ...                                                ...    ...   \n",
       "11144  2015-02-13  Apple has assigned 100s of staffers to an elec...    NaN   \n",
       "11145  2015-01-28  Apple, Microsoft and Tesla shops are helping h...    NaN   \n",
       "11146  2015-01-17  Elon Musk says Tesla won't be profitable until...    NaN   \n",
       "11147  2015-01-14  Elon Musk says Tesla won't be profitable until...    NaN   \n",
       "11148  2015-01-12  Elon Musk is pushing hard to sell 500,000 Tesl...    NaN   \n",
       "\n",
       "       score  \n",
       "0        NaN  \n",
       "1        NaN  \n",
       "2        NaN  \n",
       "3        NaN  \n",
       "4        NaN  \n",
       "...      ...  \n",
       "11144    NaN  \n",
       "11145    NaN  \n",
       "11146    NaN  \n",
       "11147    NaN  \n",
       "11148    NaN  \n",
       "\n",
       "[11149 rows x 4 columns]"
      ]
     },
     "execution_count": 8,
     "metadata": {},
     "output_type": "execute_result"
    }
   ],
   "source": [
    "new_df = pd.read_csv('./tsla_merged_res_2.csv')\n",
    "new_df"
   ]
  },
  {
   "cell_type": "code",
   "execution_count": 9,
   "id": "35a3bc28-61a0-4e45-b25f-bb7a50a4a820",
   "metadata": {
    "tags": []
   },
   "outputs": [
    {
     "data": {
      "application/vnd.jupyter.widget-view+json": {
       "model_id": "1610617278164e33a644d807c8b5f743",
       "version_major": 2,
       "version_minor": 0
      },
      "text/plain": [
       "config.json:   0%|          | 0.00/1.04k [00:00<?, ?B/s]"
      ]
     },
     "metadata": {},
     "output_type": "display_data"
    },
    {
     "data": {
      "application/vnd.jupyter.widget-view+json": {
       "model_id": "0df365c0ac7347e19fde57181eec4737",
       "version_major": 2,
       "version_minor": 0
      },
      "text/plain": [
       "model.safetensors:   0%|          | 0.00/568M [00:00<?, ?B/s]"
      ]
     },
     "metadata": {},
     "output_type": "display_data"
    },
    {
     "data": {
      "application/vnd.jupyter.widget-view+json": {
       "model_id": "d418d071338d49948b4920fbbf3fb6a3",
       "version_major": 2,
       "version_minor": 0
      },
      "text/plain": [
       "tokenizer_config.json:   0%|          | 0.00/1.28k [00:00<?, ?B/s]"
      ]
     },
     "metadata": {},
     "output_type": "display_data"
    },
    {
     "data": {
      "application/vnd.jupyter.widget-view+json": {
       "model_id": "1e7bd095c64f456ea3f2ce8a1edea73e",
       "version_major": 2,
       "version_minor": 0
      },
      "text/plain": [
       "spm.model:   0%|          | 0.00/2.46M [00:00<?, ?B/s]"
      ]
     },
     "metadata": {},
     "output_type": "display_data"
    },
    {
     "data": {
      "application/vnd.jupyter.widget-view+json": {
       "model_id": "fc794662cc234f18bfb01b3e4faa92a8",
       "version_major": 2,
       "version_minor": 0
      },
      "text/plain": [
       "tokenizer.json:   0%|          | 0.00/8.66M [00:00<?, ?B/s]"
      ]
     },
     "metadata": {},
     "output_type": "display_data"
    },
    {
     "data": {
      "application/vnd.jupyter.widget-view+json": {
       "model_id": "e98bca45c8f243de8c66d15582ff54de",
       "version_major": 2,
       "version_minor": 0
      },
      "text/plain": [
       "added_tokens.json:   0%|          | 0.00/23.0 [00:00<?, ?B/s]"
      ]
     },
     "metadata": {},
     "output_type": "display_data"
    },
    {
     "data": {
      "application/vnd.jupyter.widget-view+json": {
       "model_id": "3aca7293b66b4fd697afce4b0fb72b26",
       "version_major": 2,
       "version_minor": 0
      },
      "text/plain": [
       "special_tokens_map.json:   0%|          | 0.00/286 [00:00<?, ?B/s]"
      ]
     },
     "metadata": {},
     "output_type": "display_data"
    }
   ],
   "source": [
    "# 導入pretrianed model\n",
    "deberta = pipeline(\"text-classification\", model=\"mrm8488/deberta-v3-ft-financial-news-sentiment-analysis\")"
   ]
  },
  {
   "cell_type": "code",
   "execution_count": 10,
   "id": "5698bfed-857a-43d0-b0a4-60638b0b5bd4",
   "metadata": {
    "tags": []
   },
   "outputs": [
    {
     "name": "stderr",
     "output_type": "stream",
     "text": [
      "  0%|          | 0/11149 [00:00<?, ?it/s]/tmp/ipykernel_888293/1126264365.py:5: FutureWarning: Setting an item of incompatible dtype is deprecated and will raise an error in a future version of pandas. Value 'negative' has dtype incompatible with float64, please explicitly cast to a compatible dtype first.\n",
      "  new_df.loc[i, 'label'] = res[0]['label']\n",
      "100%|██████████| 11149/11149 [04:11<00:00, 44.41it/s]"
     ]
    },
    {
     "name": "stdout",
     "output_type": "stream",
     "text": [
      "predict done\n"
     ]
    },
    {
     "name": "stderr",
     "output_type": "stream",
     "text": [
      "\n"
     ]
    }
   ],
   "source": [
    "i=0\n",
    "for line in tqdm(new_df['Content'], total=len(new_df)):\n",
    "    if isinstance(line, str):\n",
    "        res = deberta(line)\n",
    "        new_df.loc[i, 'label'] = res[0]['label']\n",
    "        new_df.loc[i, 'score'] = res[0]['score']\n",
    "    else:\n",
    "        print(f\"Ignoring invalid data: {line}\")\n",
    "    i += 1\n",
    "    \n",
    "print(\"predict done\")"
   ]
  },
  {
   "cell_type": "code",
   "execution_count": 11,
   "id": "02b1f631-a9e8-4f25-8540-b04d5d4853b8",
   "metadata": {
    "tags": []
   },
   "outputs": [
    {
     "name": "stdout",
     "output_type": "stream",
     "text": [
      "          Date                                            Content     label  \\\n",
      "0   2020-12-31  Tesla short sellers lost billions more on the ...  negative   \n",
      "1   2020-12-31  Enphase joins Tesla as the latest clean tech f...  positive   \n",
      "2   2020-12-29  In 2021, the breadth of the competitive attack...  positive   \n",
      "3   2020-12-28  In 2021, the breadth of the competitive attack...  positive   \n",
      "4   2020-12-25  Elon Musk says it’s “impossible” to take Tesla...   neutral   \n",
      "5   2020-12-25  Elon Musk has made millionaires out of Tesla's...   neutral   \n",
      "6   2020-12-25  Elon Musk says he tried to approach Apple year...   neutral   \n",
      "7   2020-12-23  Elon Musk says he tried to approach Apple year...   neutral   \n",
      "8   2020-12-22  Elon Musk says he once tried to sell Tesla to ...   neutral   \n",
      "9   2020-12-22  Elon Musk says he tried to approach Apple year...   neutral   \n",
      "10  2020-12-22  Apple’s reported foray into making its own sel...   neutral   \n",
      "11  2020-12-21  It didn’t take long for Tesla’s big price swin...   neutral   \n",
      "12  2020-12-21  Fueled by the Tesla effect, convertible bonds ...  positive   \n",
      "13  2020-12-21  Tesla shares fall 5% after being added to the ...  negative   \n",
      "14  2020-12-21  Tesla shares tumble in their trading debut on ...  negative   \n",
      "15  2020-12-20  Elon Musk inquires about converting “large tra...   neutral   \n",
      "16  2020-12-20  In a tumultuous year for stocks, few stories h...   neutral   \n",
      "17  2020-12-19  In a tumultuous year for stocks, few stories h...   neutral   \n",
      "18  2020-12-19  This 32-year-old put everything he had in Tesl...   neutral   \n",
      "19  2020-12-19  Tesla’s historic entry into the S&amp;P 500 co...  negative   \n",
      "\n",
      "       score  \n",
      "0   0.998842  \n",
      "1   0.943688  \n",
      "2   0.571425  \n",
      "3   0.571425  \n",
      "4   0.895259  \n",
      "5   0.951817  \n",
      "6   0.995102  \n",
      "7   0.995102  \n",
      "8   0.998939  \n",
      "9   0.995102  \n",
      "10  0.997320  \n",
      "11  0.995400  \n",
      "12  0.997892  \n",
      "13  0.995653  \n",
      "14  0.996129  \n",
      "15  0.997878  \n",
      "16  0.977927  \n",
      "17  0.977927  \n",
      "18  0.998483  \n",
      "19  0.992925  \n"
     ]
    }
   ],
   "source": [
    "print(new_df.head(20))"
   ]
  },
  {
   "cell_type": "code",
   "execution_count": 12,
   "id": "1badfd2e-5e20-459a-afab-ada760593a74",
   "metadata": {
    "tags": []
   },
   "outputs": [],
   "source": [
    "new_df.to_csv('tsla_merged_res_2.csv', index=False)"
   ]
  },
  {
   "cell_type": "code",
   "execution_count": null,
   "id": "899180ca-69ca-463b-ad82-0166572b94a8",
   "metadata": {},
   "outputs": [],
   "source": []
  }
 ],
 "metadata": {
  "kernelspec": {
   "display_name": "Python 3 (ipykernel)",
   "language": "python",
   "name": "python3"
  },
  "language_info": {
   "codemirror_mode": {
    "name": "ipython",
    "version": 3
   },
   "file_extension": ".py",
   "mimetype": "text/x-python",
   "name": "python",
   "nbconvert_exporter": "python",
   "pygments_lexer": "ipython3",
   "version": "3.10.10"
  }
 },
 "nbformat": 4,
 "nbformat_minor": 5
}
